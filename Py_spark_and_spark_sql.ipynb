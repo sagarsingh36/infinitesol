{
  "nbformat": 4,
  "nbformat_minor": 0,
  "metadata": {
    "colab": {
      "provenance": [],
      "authorship_tag": "ABX9TyNvgdc944huCeI5EW2WZtZs",
      "include_colab_link": true
    },
    "kernelspec": {
      "name": "python3",
      "display_name": "Python 3"
    },
    "language_info": {
      "name": "python"
    }
  },
  "cells": [
    {
      "cell_type": "markdown",
      "metadata": {
        "id": "view-in-github",
        "colab_type": "text"
      },
      "source": [
        "<a href=\"https://colab.research.google.com/github/sagarsingh36/infinitesol/blob/main/Py_spark_and_spark_sql.ipynb\" target=\"_parent\"><img src=\"https://colab.research.google.com/assets/colab-badge.svg\" alt=\"Open In Colab\"/></a>"
      ]
    },
    {
      "cell_type": "code",
      "execution_count": null,
      "metadata": {
        "colab": {
          "base_uri": "https://localhost:8080/"
        },
        "id": "o4aSmn50kGPL",
        "outputId": "ce753a52-62a4-4214-92a8-5bd2938fce48"
      },
      "outputs": [
        {
          "output_type": "stream",
          "name": "stdout",
          "text": [
            "Requirement already satisfied: pyspark in /usr/local/lib/python3.10/dist-packages (3.5.0)\n",
            "Requirement already satisfied: py4j==0.10.9.7 in /usr/local/lib/python3.10/dist-packages (from pyspark) (0.10.9.7)\n"
          ]
        }
      ],
      "source": [
        "!pip install pyspark\n"
      ]
    },
    {
      "cell_type": "code",
      "source": [
        "a=1"
      ],
      "metadata": {
        "id": "mBsepvmrkqqZ"
      },
      "execution_count": null,
      "outputs": []
    },
    {
      "cell_type": "code",
      "source": [
        "print(\"my code\")"
      ],
      "metadata": {
        "colab": {
          "base_uri": "https://localhost:8080/"
        },
        "id": "XhfRayVQkuAL",
        "outputId": "b956e12f-a614-42ee-d836-f07fa73f3761"
      },
      "execution_count": null,
      "outputs": [
        {
          "output_type": "stream",
          "name": "stdout",
          "text": [
            "my code\n"
          ]
        }
      ]
    },
    {
      "cell_type": "code",
      "source": [
        "!pip install pandas"
      ],
      "metadata": {
        "colab": {
          "base_uri": "https://localhost:8080/"
        },
        "id": "kjZ-4iUhkzC_",
        "outputId": "a5dc6c1d-0453-495d-edf7-0e4907b6c992"
      },
      "execution_count": null,
      "outputs": [
        {
          "output_type": "stream",
          "name": "stdout",
          "text": [
            "Requirement already satisfied: pandas in /usr/local/lib/python3.10/dist-packages (1.5.3)\n",
            "Requirement already satisfied: python-dateutil>=2.8.1 in /usr/local/lib/python3.10/dist-packages (from pandas) (2.8.2)\n",
            "Requirement already satisfied: pytz>=2020.1 in /usr/local/lib/python3.10/dist-packages (from pandas) (2023.4)\n",
            "Requirement already satisfied: numpy>=1.21.0 in /usr/local/lib/python3.10/dist-packages (from pandas) (1.23.5)\n",
            "Requirement already satisfied: six>=1.5 in /usr/local/lib/python3.10/dist-packages (from python-dateutil>=2.8.1->pandas) (1.16.0)\n"
          ]
        }
      ]
    },
    {
      "cell_type": "code",
      "source": [
        "from pyspark.sql import SparkSession"
      ],
      "metadata": {
        "id": "HL6UNoIPk7Ey"
      },
      "execution_count": null,
      "outputs": []
    },
    {
      "cell_type": "code",
      "source": [
        "spark = SparkSession.builder.appName(\"Intelli_J\").master(\"local\").getOrCreate()"
      ],
      "metadata": {
        "id": "B5NYAtYdnIeD"
      },
      "execution_count": null,
      "outputs": []
    },
    {
      "cell_type": "code",
      "source": [],
      "metadata": {
        "id": "oa_YiY8UpFvE"
      },
      "execution_count": null,
      "outputs": []
    },
    {
      "cell_type": "code",
      "source": [
        "df =spark.read.csv('/content/course_file.csv')"
      ],
      "metadata": {
        "id": "M8Ac5hk5nYaM"
      },
      "execution_count": null,
      "outputs": []
    },
    {
      "cell_type": "code",
      "source": [
        "df.show (2)"
      ],
      "metadata": {
        "colab": {
          "base_uri": "https://localhost:8080/"
        },
        "id": "VkZ47ph0nrbE",
        "outputId": "b36b273a-3ffa-43e5-a68e-f250b2ec3e6d"
      },
      "execution_count": null,
      "outputs": [
        {
          "output_type": "stream",
          "name": "stdout",
          "text": [
            "+-------------------+-------------+----------------+-------+-------+---------------+-------------+-------+--------+-----------+--------------------+--------+\n",
            "|                _c0|          _c1|             _c2|    _c3|    _c4|            _c5|          _c6|    _c7|     _c8|        _c9|                _c10|    _c11|\n",
            "+-------------------+-------------+----------------+-------+-------+---------------+-------------+-------+--------+-----------+--------------------+--------+\n",
            "|          date_time|       userid|          domain|dlbytes|ulbytes|       clientip|     serverip|country|txn_time|http_method|          user_agent|platform|\n",
            "|2023-10-04 11:37:11|7773153683656|ryan-wells.co.uk| 872807| 741526|142.132.219.110|62.42.184.180|England|    2.33|      HTTPS|Mozilla/5.0 (Wind...| Android|\n",
            "+-------------------+-------------+----------------+-------+-------+---------------+-------------+-------+--------+-----------+--------------------+--------+\n",
            "only showing top 2 rows\n",
            "\n"
          ]
        }
      ]
    },
    {
      "cell_type": "code",
      "source": [
        "df =spark.read.csv('/content/course_file.csv',header=True)"
      ],
      "metadata": {
        "id": "ORFWPeS7n1RB"
      },
      "execution_count": null,
      "outputs": []
    },
    {
      "cell_type": "code",
      "source": [
        "df.show (2)"
      ],
      "metadata": {
        "colab": {
          "base_uri": "https://localhost:8080/"
        },
        "id": "zNED94PyoDk2",
        "outputId": "4796cf7d-018f-44e6-ec15-ac3675ff8b2a"
      },
      "execution_count": null,
      "outputs": [
        {
          "output_type": "stream",
          "name": "stdout",
          "text": [
            "+-------------------+-------------+----------------+-------+-------+---------------+-------------+-------+--------+-----------+--------------------+--------+\n",
            "|          date_time|       userid|          domain|dlbytes|ulbytes|       clientip|     serverip|country|txn_time|http_method|          user_agent|platform|\n",
            "+-------------------+-------------+----------------+-------+-------+---------------+-------------+-------+--------+-----------+--------------------+--------+\n",
            "|2023-10-04 11:37:11|7773153683656|ryan-wells.co.uk| 872807| 741526|142.132.219.110|62.42.184.180|England|    2.33|      HTTPS|Mozilla/5.0 (Wind...| Android|\n",
            "|2023-10-04 12:17:07|1886351675683|     hopkins.org|  50898| 529504|  184.205.48.78|152.123.41.39|  Wales|     1.2|       HTTP|Mozilla/5.0 (Wind...| Android|\n",
            "+-------------------+-------------+----------------+-------+-------+---------------+-------------+-------+--------+-----------+--------------------+--------+\n",
            "only showing top 2 rows\n",
            "\n"
          ]
        }
      ]
    },
    {
      "cell_type": "code",
      "source": [
        "df.show (5)"
      ],
      "metadata": {
        "colab": {
          "base_uri": "https://localhost:8080/"
        },
        "id": "lt94nmRioKKR",
        "outputId": "f6fcf9cc-1da6-4621-f519-06dbc3e7bfa6"
      },
      "execution_count": null,
      "outputs": [
        {
          "output_type": "stream",
          "name": "stdout",
          "text": [
            "+-------------------+-------------+--------------------+-------+-------+---------------+-------------+--------+--------+-----------+--------------------+--------+\n",
            "|          date_time|       userid|              domain|dlbytes|ulbytes|       clientip|     serverip| country|txn_time|http_method|          user_agent|platform|\n",
            "+-------------------+-------------+--------------------+-------+-------+---------------+-------------+--------+--------+-----------+--------------------+--------+\n",
            "|2023-10-04 11:37:11|7773153683656|    ryan-wells.co.uk| 872807| 741526|142.132.219.110|62.42.184.180| England|    2.33|      HTTPS|Mozilla/5.0 (Wind...| Android|\n",
            "|2023-10-04 12:17:07|1886351675683|         hopkins.org|  50898| 529504|  184.205.48.78|152.123.41.39|   Wales|     1.2|       HTTP|Mozilla/5.0 (Wind...| Android|\n",
            "|2023-10-02 23:25:12|1597721345356|           evans.com| 964276| 952420|  189.30.60.163|68.171.236.18|Scotland|    1.32|       HTTP|Mozilla/5.0 (Wind...|   Linux|\n",
            "|2023-10-03 09:43:11|9766845800247|           kelly.com| 212529| 811887|   13.144.79.35|63.141.80.109| England|    2.58|      HTTPS|Opera/8.54.(X11; ...| Android|\n",
            "|2023-10-01 08:16:46|1546762097287|richardson-walker...| 553626| 901428| 143.74.163.248|26.253.17.223|   Wales|    1.53|       HTTP|Mozilla/5.0 (Maci...| Windows|\n",
            "+-------------------+-------------+--------------------+-------+-------+---------------+-------------+--------+--------+-----------+--------------------+--------+\n",
            "only showing top 5 rows\n",
            "\n"
          ]
        }
      ]
    },
    {
      "cell_type": "code",
      "source": [
        "df = spark.read.format('csv').options(header=True, inferSchema=True).load('/content/course_file.csv')"
      ],
      "metadata": {
        "id": "ztl265r7owK8"
      },
      "execution_count": null,
      "outputs": []
    },
    {
      "cell_type": "code",
      "source": [
        "df.show (5)"
      ],
      "metadata": {
        "colab": {
          "base_uri": "https://localhost:8080/"
        },
        "id": "i7ZqG1oDpRIU",
        "outputId": "abd71523-5603-46f2-d91c-64b3b26048ef"
      },
      "execution_count": null,
      "outputs": [
        {
          "output_type": "stream",
          "name": "stdout",
          "text": [
            "+-------------------+-------------+--------------------+-------+-------+---------------+-------------+--------+--------+-----------+--------------------+--------+\n",
            "|          date_time|       userid|              domain|dlbytes|ulbytes|       clientip|     serverip| country|txn_time|http_method|          user_agent|platform|\n",
            "+-------------------+-------------+--------------------+-------+-------+---------------+-------------+--------+--------+-----------+--------------------+--------+\n",
            "|2023-10-04 11:37:11|7773153683656|    ryan-wells.co.uk| 872807| 741526|142.132.219.110|62.42.184.180| England|    2.33|      HTTPS|Mozilla/5.0 (Wind...| Android|\n",
            "|2023-10-04 12:17:07|1886351675683|         hopkins.org|  50898| 529504|  184.205.48.78|152.123.41.39|   Wales|     1.2|       HTTP|Mozilla/5.0 (Wind...| Android|\n",
            "|2023-10-02 23:25:12|1597721345356|           evans.com| 964276| 952420|  189.30.60.163|68.171.236.18|Scotland|    1.32|       HTTP|Mozilla/5.0 (Wind...|   Linux|\n",
            "|2023-10-03 09:43:11|9766845800247|           kelly.com| 212529| 811887|   13.144.79.35|63.141.80.109| England|    2.58|      HTTPS|Opera/8.54.(X11; ...| Android|\n",
            "|2023-10-01 08:16:46|1546762097287|richardson-walker...| 553626| 901428| 143.74.163.248|26.253.17.223|   Wales|    1.53|       HTTP|Mozilla/5.0 (Maci...| Windows|\n",
            "+-------------------+-------------+--------------------+-------+-------+---------------+-------------+--------+--------+-----------+--------------------+--------+\n",
            "only showing top 5 rows\n",
            "\n"
          ]
        }
      ]
    },
    {
      "cell_type": "code",
      "source": [
        "df.printSchema()"
      ],
      "metadata": {
        "colab": {
          "base_uri": "https://localhost:8080/"
        },
        "id": "__5H1zUepZ7j",
        "outputId": "ea5b5163-be0e-4140-dc65-4fc7a55abbaf"
      },
      "execution_count": null,
      "outputs": [
        {
          "output_type": "stream",
          "name": "stdout",
          "text": [
            "root\n",
            " |-- date_time: timestamp (nullable = true)\n",
            " |-- userid: long (nullable = true)\n",
            " |-- domain: string (nullable = true)\n",
            " |-- dlbytes: integer (nullable = true)\n",
            " |-- ulbytes: integer (nullable = true)\n",
            " |-- clientip: string (nullable = true)\n",
            " |-- serverip: string (nullable = true)\n",
            " |-- country: string (nullable = true)\n",
            " |-- txn_time: double (nullable = true)\n",
            " |-- http_method: string (nullable = true)\n",
            " |-- user_agent: string (nullable = true)\n",
            " |-- platform: string (nullable = true)\n",
            "\n"
          ]
        }
      ]
    },
    {
      "cell_type": "code",
      "source": [
        "df.printSchema()"
      ],
      "metadata": {
        "colab": {
          "base_uri": "https://localhost:8080/"
        },
        "id": "p508WS8epiMf",
        "outputId": "f24330ea-af5d-43c7-de72-811b172d4599"
      },
      "execution_count": null,
      "outputs": [
        {
          "output_type": "stream",
          "name": "stdout",
          "text": [
            "root\n",
            " |-- date_time: timestamp (nullable = true)\n",
            " |-- userid: long (nullable = true)\n",
            " |-- domain: string (nullable = true)\n",
            " |-- dlbytes: integer (nullable = true)\n",
            " |-- ulbytes: integer (nullable = true)\n",
            " |-- clientip: string (nullable = true)\n",
            " |-- serverip: string (nullable = true)\n",
            " |-- country: string (nullable = true)\n",
            " |-- txn_time: double (nullable = true)\n",
            " |-- http_method: string (nullable = true)\n",
            " |-- user_agent: string (nullable = true)\n",
            " |-- platform: string (nullable = true)\n",
            "\n"
          ]
        }
      ]
    },
    {
      "cell_type": "code",
      "source": [
        "# to show count mean, standard deviation mean etc\n",
        "df.describe().show()"
      ],
      "metadata": {
        "colab": {
          "base_uri": "https://localhost:8080/"
        },
        "id": "tGvRoChLpv8F",
        "outputId": "3975e661-d989-45e5-e0b1-d20a284cdf39"
      },
      "execution_count": null,
      "outputs": [
        {
          "output_type": "stream",
          "name": "stdout",
          "text": [
            "+-------+--------------------+-----------------+------------------+-----------------+-----------+------------+-------+------------------+-----------+--------------------+--------+\n",
            "|summary|              userid|           domain|           dlbytes|          ulbytes|   clientip|    serverip|country|          txn_time|http_method|          user_agent|platform|\n",
            "+-------+--------------------+-----------------+------------------+-----------------+-----------+------------+-------+------------------+-----------+--------------------+--------+\n",
            "|  count|              100000|           100000|            100000|           100000|     100000|      100000| 100000|            100000|     100000|              100000|  100000|\n",
            "|   mean|5.010135665120623E12|             NULL|      499993.58573|     499925.16314|       NULL|        NULL|   NULL| 1.498051999999985|       NULL|                NULL|    NULL|\n",
            "| stddev|2.898286126875010...|             NULL|288565.82296079386|288284.7692300465|       NULL|        NULL|   NULL|0.8669253606232793|       NULL|                NULL|    NULL|\n",
            "|    min|            34807482|abbott-barnes.com|                61|               74|1.0.166.229|  1.1.144.16|England|               0.0|       HTTP|Mozilla/5.0 (Andr...| Android|\n",
            "|    max|       9999986035271|        young.org|            999994|           999975|99.99.69.51|99.97.24.198|  Wales|               3.0|      HTTPS|Opera/9.99.(X11; ...|     iOS|\n",
            "+-------+--------------------+-----------------+------------------+-----------------+-----------+------------+-------+------------------+-----------+--------------------+--------+\n",
            "\n"
          ]
        }
      ]
    },
    {
      "cell_type": "markdown",
      "source": [
        "df.count()"
      ],
      "metadata": {
        "id": "YWoqMo0R7MXE"
      }
    },
    {
      "cell_type": "markdown",
      "source": [
        "df.count()"
      ],
      "metadata": {
        "id": "sFwGO8hMqCJb"
      }
    },
    {
      "cell_type": "code",
      "source": [
        "df.count()"
      ],
      "metadata": {
        "colab": {
          "base_uri": "https://localhost:8080/"
        },
        "id": "G5uEWxiA8J0N",
        "outputId": "b249bb36-71cf-4399-b180-08afdcf27e7b"
      },
      "execution_count": null,
      "outputs": [
        {
          "output_type": "execute_result",
          "data": {
            "text/plain": [
              "100001"
            ]
          },
          "metadata": {},
          "execution_count": 44
        }
      ]
    },
    {
      "cell_type": "code",
      "source": [
        "df.columns"
      ],
      "metadata": {
        "colab": {
          "base_uri": "https://localhost:8080/"
        },
        "id": "VTCsG03J8Nkm",
        "outputId": "020ef156-7f41-4396-d121-8bc1a6e23457"
      },
      "execution_count": null,
      "outputs": [
        {
          "output_type": "execute_result",
          "data": {
            "text/plain": [
              "['_c0',\n",
              " '_c1',\n",
              " '_c2',\n",
              " '_c3',\n",
              " '_c4',\n",
              " '_c5',\n",
              " '_c6',\n",
              " '_c7',\n",
              " '_c8',\n",
              " '_c9',\n",
              " '_c10',\n",
              " '_c11']"
            ]
          },
          "metadata": {},
          "execution_count": 45
        }
      ]
    },
    {
      "cell_type": "code",
      "source": [
        "# To shows the datatypes\n",
        "df.dtypes"
      ],
      "metadata": {
        "colab": {
          "base_uri": "https://localhost:8080/"
        },
        "id": "pX7O7dcw8c2O",
        "outputId": "6cd784a7-8030-4810-8e74-dd34d457272f"
      },
      "execution_count": null,
      "outputs": [
        {
          "output_type": "execute_result",
          "data": {
            "text/plain": [
              "[('_c0', 'string'),\n",
              " ('_c1', 'string'),\n",
              " ('_c2', 'string'),\n",
              " ('_c3', 'string'),\n",
              " ('_c4', 'string'),\n",
              " ('_c5', 'string'),\n",
              " ('_c6', 'string'),\n",
              " ('_c7', 'string'),\n",
              " ('_c8', 'string'),\n",
              " ('_c9', 'string'),\n",
              " ('_c10', 'string'),\n",
              " ('_c11', 'string')]"
            ]
          },
          "metadata": {},
          "execution_count": 46
        }
      ]
    },
    {
      "cell_type": "code",
      "source": [
        "#to select specific column\n",
        "df.select('country', 'dlbytes').show()"
      ],
      "metadata": {
        "colab": {
          "base_uri": "https://localhost:8080/"
        },
        "id": "S9Gwc2bS8kH8",
        "outputId": "7fd52c37-5b03-451a-ee7e-1bb64c81733d"
      },
      "execution_count": null,
      "outputs": [
        {
          "output_type": "stream",
          "name": "stdout",
          "text": [
            "+--------+-------+\n",
            "| country|dlbytes|\n",
            "+--------+-------+\n",
            "| England| 872807|\n",
            "|   Wales|  50898|\n",
            "|Scotland| 964276|\n",
            "| England| 212529|\n",
            "|   Wales| 553626|\n",
            "| England|  43595|\n",
            "| England| 270574|\n",
            "|Scotland| 342378|\n",
            "|Scotland| 613214|\n",
            "| England| 643362|\n",
            "| Ireland| 603759|\n",
            "| England| 707145|\n",
            "|   Wales| 640439|\n",
            "| England| 764956|\n",
            "| Ireland| 651947|\n",
            "| Ireland| 428528|\n",
            "|   Wales|  23710|\n",
            "|   Wales| 447095|\n",
            "| England| 809701|\n",
            "|Scotland| 204941|\n",
            "+--------+-------+\n",
            "only showing top 20 rows\n",
            "\n"
          ]
        }
      ]
    },
    {
      "cell_type": "code",
      "source": [
        "# rplace this data frame to countriesdataframe\n",
        "countriesDataframe=df.select('country', 'dlbytes')"
      ],
      "metadata": {
        "id": "E3ddOrNA8_D8"
      },
      "execution_count": null,
      "outputs": []
    },
    {
      "cell_type": "code",
      "source": [
        "countriesDataframe.show()"
      ],
      "metadata": {
        "colab": {
          "base_uri": "https://localhost:8080/"
        },
        "id": "Y-8loBHL9-pz",
        "outputId": "f1fc6f9b-9ba4-4396-df80-69d9f87769b4"
      },
      "execution_count": null,
      "outputs": [
        {
          "output_type": "stream",
          "name": "stdout",
          "text": [
            "+--------+-------+\n",
            "| country|dlbytes|\n",
            "+--------+-------+\n",
            "| England| 872807|\n",
            "|   Wales|  50898|\n",
            "|Scotland| 964276|\n",
            "| England| 212529|\n",
            "|   Wales| 553626|\n",
            "| England|  43595|\n",
            "| England| 270574|\n",
            "|Scotland| 342378|\n",
            "|Scotland| 613214|\n",
            "| England| 643362|\n",
            "| Ireland| 603759|\n",
            "| England| 707145|\n",
            "|   Wales| 640439|\n",
            "| England| 764956|\n",
            "| Ireland| 651947|\n",
            "| Ireland| 428528|\n",
            "|   Wales|  23710|\n",
            "|   Wales| 447095|\n",
            "| England| 809701|\n",
            "|Scotland| 204941|\n",
            "+--------+-------+\n",
            "only showing top 20 rows\n",
            "\n"
          ]
        }
      ]
    },
    {
      "cell_type": "code",
      "source": [
        "countriesDataframe.show(2)"
      ],
      "metadata": {
        "colab": {
          "base_uri": "https://localhost:8080/"
        },
        "id": "_dVlVvtx-H9j",
        "outputId": "60bc23f6-4e59-4513-b4b5-c37bba9b764d"
      },
      "execution_count": null,
      "outputs": [
        {
          "output_type": "stream",
          "name": "stdout",
          "text": [
            "+-------+-------+\n",
            "|country|dlbytes|\n",
            "+-------+-------+\n",
            "|England| 872807|\n",
            "|  Wales|  50898|\n",
            "+-------+-------+\n",
            "only showing top 2 rows\n",
            "\n"
          ]
        }
      ]
    },
    {
      "cell_type": "code",
      "source": [
        "countriesDataframe.show(2)"
      ],
      "metadata": {
        "colab": {
          "base_uri": "https://localhost:8080/"
        },
        "id": "Q3PnkPrc-Ru5",
        "outputId": "9f171118-8588-4255-dafd-4a8dde95589c"
      },
      "execution_count": null,
      "outputs": [
        {
          "output_type": "stream",
          "name": "stdout",
          "text": [
            "+-------+-------+\n",
            "|country|dlbytes|\n",
            "+-------+-------+\n",
            "|England| 872807|\n",
            "|  Wales|  50898|\n",
            "+-------+-------+\n",
            "only showing top 2 rows\n",
            "\n"
          ]
        }
      ]
    },
    {
      "cell_type": "code",
      "source": [
        "from pyspark.sql.types import *\n",
        "\n",
        "# Define the Custom Schema\n",
        "custom_schema = StructType([\n",
        "    StructField(\"date_time\", StringType(), True),\n",
        "    StructField(\"userid\", StringType(), True),\n",
        "    StructField(\"domain\", StringType(), True),\n",
        "    StructField(\"dlbytes\", IntegerType(), True),\n",
        "    StructField(\"ulbytes\", IntegerType(), True),\n",
        "    StructField(\"clientip\", StringType(), True),\n",
        "    StructField(\"serverip\", StringType(), True),\n",
        "    StructField(\"country\", StringType(), True),\n",
        "    StructField(\"txn_time\", FloatType(), True),\n",
        "    StructField(\"http_method\", StringType(), True),\n",
        "    StructField(\"user_agent\", StringType(), True),\n",
        "    StructField(\"platform\", StringType(), True)\n",
        "])\n",
        "#dataFrameCustomSchema = spark.read.csv('/content/course_file.csv', schema=custom_schema, header=True)\n",
        "#dataFrameCustomSchema.printSchema()\n",
        "# dataFrameCustomSchema = spark.read.format('csv').options(schema=custom_schema, header=True).load('/content/course_file.csv')\n",
        "dataFrameCustomSchema = spark.read.format('csv').options(header=True).schema(custom_schema).load('/content/course_file.csv')"
      ],
      "metadata": {
        "id": "hPKaysdW-YBJ"
      },
      "execution_count": null,
      "outputs": []
    },
    {
      "cell_type": "code",
      "source": [
        "df.printSchema()"
      ],
      "metadata": {
        "colab": {
          "base_uri": "https://localhost:8080/"
        },
        "id": "ivrld_MkEy92",
        "outputId": "cea41bec-f19d-44eb-b048-9e32725573c9"
      },
      "execution_count": null,
      "outputs": [
        {
          "output_type": "stream",
          "name": "stdout",
          "text": [
            "root\n",
            " |-- date_time: timestamp (nullable = true)\n",
            " |-- userid: long (nullable = true)\n",
            " |-- domain: string (nullable = true)\n",
            " |-- dlbytes: integer (nullable = true)\n",
            " |-- ulbytes: integer (nullable = true)\n",
            " |-- clientip: string (nullable = true)\n",
            " |-- serverip: string (nullable = true)\n",
            " |-- country: string (nullable = true)\n",
            " |-- txn_time: double (nullable = true)\n",
            " |-- http_method: string (nullable = true)\n",
            " |-- user_agent: string (nullable = true)\n",
            " |-- platform: string (nullable = true)\n",
            "\n"
          ]
        }
      ]
    },
    {
      "cell_type": "code",
      "source": [
        "# Replace Null Values in specific column with specified value\n",
        "df.fillna(\n",
        "    {'dlbytes':0,\n",
        "     'ulbytes':0,\n",
        "     'country':'Unknown'\n",
        "\n",
        "    }\n",
        ").show()"
      ],
      "metadata": {
        "colab": {
          "base_uri": "https://localhost:8080/"
        },
        "id": "-kpPsVzaGC0H",
        "outputId": "148e7e9b-5cc3-4bcf-b826-4d12da8620ed"
      },
      "execution_count": null,
      "outputs": [
        {
          "output_type": "stream",
          "name": "stdout",
          "text": [
            "+-------------------+-------------+--------------------+-------+-------+---------------+---------------+--------+--------+-----------+--------------------+--------+\n",
            "|          date_time|       userid|              domain|dlbytes|ulbytes|       clientip|       serverip| country|txn_time|http_method|          user_agent|platform|\n",
            "+-------------------+-------------+--------------------+-------+-------+---------------+---------------+--------+--------+-----------+--------------------+--------+\n",
            "|2023-10-04 11:37:11|7773153683656|    ryan-wells.co.uk| 872807| 741526|142.132.219.110|  62.42.184.180| England|    2.33|      HTTPS|Mozilla/5.0 (Wind...| Android|\n",
            "|2023-10-04 12:17:07|1886351675683|         hopkins.org|  50898| 529504|  184.205.48.78|  152.123.41.39|   Wales|     1.2|       HTTP|Mozilla/5.0 (Wind...| Android|\n",
            "|2023-10-02 23:25:12|1597721345356|           evans.com| 964276| 952420|  189.30.60.163|  68.171.236.18|Scotland|    1.32|       HTTP|Mozilla/5.0 (Wind...|   Linux|\n",
            "|2023-10-03 09:43:11|9766845800247|           kelly.com| 212529| 811887|   13.144.79.35|  63.141.80.109| England|    2.58|      HTTPS|Opera/8.54.(X11; ...| Android|\n",
            "|2023-10-01 08:16:46|1546762097287|richardson-walker...| 553626| 901428| 143.74.163.248|  26.253.17.223|   Wales|    1.53|       HTTP|Mozilla/5.0 (Maci...| Windows|\n",
            "|2023-10-01 13:49:39|8949163845658|            lowe.com|  43595|  77597|  148.15.214.37|     4.33.9.229| England|    1.68|       HTTP|Mozilla/5.0 (Linu...|     Mac|\n",
            "|2023-10-02 02:22:30|8035878244556|            webb.com| 270574|  94701|  73.78.116.223|    82.69.61.25| England|    2.19|      HTTPS|Mozilla/5.0 (Wind...| Windows|\n",
            "|2023-10-03 11:48:19|3400788003398|           watts.com| 342378| 715125|  142.37.27.131| 41.152.174.228|Scotland|    2.92|       HTTP|Opera/8.53.(Windo...|   Linux|\n",
            "|2023-10-02 12:45:41|7007039082075|   kemp-robinson.org| 613214| 239494| 80.245.249.129|198.186.190.149|Scotland|    1.78|      HTTPS|Mozilla/5.0 (X11;...|     Mac|\n",
            "|2023-10-03 08:59:16| 893913938070|           smith.com| 643362| 146752|    21.239.54.8|  136.170.182.7| England|    0.58|      HTTPS|Mozilla/5.0 (Andr...| Windows|\n",
            "|2023-10-05 21:36:53|3102780874474|   wilson-butler.com| 603759| 616834| 57.113.168.155|162.232.192.227| Ireland|    2.42|      HTTPS|Mozilla/5.0 (Andr...|     Mac|\n",
            "|2023-10-02 03:26:59|7214908687567|            hunt.com| 707145| 995270|  98.141.197.15| 107.239.246.38| England|    1.95|       HTTP|Opera/9.31.(Windo...|     iOS|\n",
            "|2023-10-04 03:09:58| 291279030607|           jones.org| 640439| 373389|       98.3.2.5|   148.44.76.68|   Wales|    2.47|       HTTP|Mozilla/5.0 (Maci...|     Mac|\n",
            "|2023-10-02 10:16:25|1042763747479|         thomas.info| 764956| 952036|187.182.236.233|   85.61.114.36| England|    1.42|       HTTP|Mozilla/5.0 (Andr...| Android|\n",
            "|2023-10-05 02:22:40|2322746906974|franklin-whittake...| 651947| 183369| 26.138.157.236| 142.176.162.10| Ireland|    1.35|      HTTPS|Opera/8.74.(Windo...|   Linux|\n",
            "|2023-10-01 18:12:17| 316289568864|         godfrey.com| 428528|  78946| 65.224.238.100|  128.90.192.17| Ireland|    1.61|       HTTP|Opera/9.16.(Windo...|   Linux|\n",
            "|2023-10-01 20:09:39|1093994305313|          wilson.com|  23710|  84942|  129.221.29.97|  18.191.29.117|   Wales|    1.25|       HTTP|Opera/9.17.(X11; ...|     iOS|\n",
            "|2023-10-03 04:45:13|7035874783254|      cole-jones.com| 447095| 390148|   94.98.62.187|172.173.228.171|   Wales|    2.43|       HTTP|Mozilla/5.0 (comp...| Android|\n",
            "|2023-10-05 18:48:05|7798663185667|            hall.net| 809701|  11489|  82.141.112.88|  110.103.99.71| England|    2.66|      HTTPS|Mozilla/5.0 (iPad...|     iOS|\n",
            "|2023-10-02 13:47:58| 150443056843|            todd.com| 204941| 114006|   161.8.210.40| 208.230.61.215|Scotland|    2.69|       HTTP|Opera/9.36.(X11; ...| Android|\n",
            "+-------------------+-------------+--------------------+-------+-------+---------------+---------------+--------+--------+-----------+--------------------+--------+\n",
            "only showing top 20 rows\n",
            "\n"
          ]
        }
      ]
    },
    {
      "cell_type": "code",
      "source": [
        "# Replace all null values is present then replace it with 1\n",
        "df.fillna('1').show()"
      ],
      "metadata": {
        "colab": {
          "base_uri": "https://localhost:8080/"
        },
        "id": "1Jl1QzZRG8ko",
        "outputId": "5b190e6f-c571-42a4-c202-f9df83879fdc"
      },
      "execution_count": null,
      "outputs": [
        {
          "output_type": "stream",
          "name": "stdout",
          "text": [
            "+-------------------+-------------+--------------------+-------+-------+---------------+---------------+--------+--------+-----------+--------------------+--------+\n",
            "|          date_time|       userid|              domain|dlbytes|ulbytes|       clientip|       serverip| country|txn_time|http_method|          user_agent|platform|\n",
            "+-------------------+-------------+--------------------+-------+-------+---------------+---------------+--------+--------+-----------+--------------------+--------+\n",
            "|2023-10-04 11:37:11|7773153683656|    ryan-wells.co.uk| 872807| 741526|142.132.219.110|  62.42.184.180| England|    2.33|      HTTPS|Mozilla/5.0 (Wind...| Android|\n",
            "|2023-10-04 12:17:07|1886351675683|         hopkins.org|  50898| 529504|  184.205.48.78|  152.123.41.39|   Wales|     1.2|       HTTP|Mozilla/5.0 (Wind...| Android|\n",
            "|2023-10-02 23:25:12|1597721345356|           evans.com| 964276| 952420|  189.30.60.163|  68.171.236.18|Scotland|    1.32|       HTTP|Mozilla/5.0 (Wind...|   Linux|\n",
            "|2023-10-03 09:43:11|9766845800247|           kelly.com| 212529| 811887|   13.144.79.35|  63.141.80.109| England|    2.58|      HTTPS|Opera/8.54.(X11; ...| Android|\n",
            "|2023-10-01 08:16:46|1546762097287|richardson-walker...| 553626| 901428| 143.74.163.248|  26.253.17.223|   Wales|    1.53|       HTTP|Mozilla/5.0 (Maci...| Windows|\n",
            "|2023-10-01 13:49:39|8949163845658|            lowe.com|  43595|  77597|  148.15.214.37|     4.33.9.229| England|    1.68|       HTTP|Mozilla/5.0 (Linu...|     Mac|\n",
            "|2023-10-02 02:22:30|8035878244556|            webb.com| 270574|  94701|  73.78.116.223|    82.69.61.25| England|    2.19|      HTTPS|Mozilla/5.0 (Wind...| Windows|\n",
            "|2023-10-03 11:48:19|3400788003398|           watts.com| 342378| 715125|  142.37.27.131| 41.152.174.228|Scotland|    2.92|       HTTP|Opera/8.53.(Windo...|   Linux|\n",
            "|2023-10-02 12:45:41|7007039082075|   kemp-robinson.org| 613214| 239494| 80.245.249.129|198.186.190.149|Scotland|    1.78|      HTTPS|Mozilla/5.0 (X11;...|     Mac|\n",
            "|2023-10-03 08:59:16| 893913938070|           smith.com| 643362| 146752|    21.239.54.8|  136.170.182.7| England|    0.58|      HTTPS|Mozilla/5.0 (Andr...| Windows|\n",
            "|2023-10-05 21:36:53|3102780874474|   wilson-butler.com| 603759| 616834| 57.113.168.155|162.232.192.227| Ireland|    2.42|      HTTPS|Mozilla/5.0 (Andr...|     Mac|\n",
            "|2023-10-02 03:26:59|7214908687567|            hunt.com| 707145| 995270|  98.141.197.15| 107.239.246.38| England|    1.95|       HTTP|Opera/9.31.(Windo...|     iOS|\n",
            "|2023-10-04 03:09:58| 291279030607|           jones.org| 640439| 373389|       98.3.2.5|   148.44.76.68|   Wales|    2.47|       HTTP|Mozilla/5.0 (Maci...|     Mac|\n",
            "|2023-10-02 10:16:25|1042763747479|         thomas.info| 764956| 952036|187.182.236.233|   85.61.114.36| England|    1.42|       HTTP|Mozilla/5.0 (Andr...| Android|\n",
            "|2023-10-05 02:22:40|2322746906974|franklin-whittake...| 651947| 183369| 26.138.157.236| 142.176.162.10| Ireland|    1.35|      HTTPS|Opera/8.74.(Windo...|   Linux|\n",
            "|2023-10-01 18:12:17| 316289568864|         godfrey.com| 428528|  78946| 65.224.238.100|  128.90.192.17| Ireland|    1.61|       HTTP|Opera/9.16.(Windo...|   Linux|\n",
            "|2023-10-01 20:09:39|1093994305313|          wilson.com|  23710|  84942|  129.221.29.97|  18.191.29.117|   Wales|    1.25|       HTTP|Opera/9.17.(X11; ...|     iOS|\n",
            "|2023-10-03 04:45:13|7035874783254|      cole-jones.com| 447095| 390148|   94.98.62.187|172.173.228.171|   Wales|    2.43|       HTTP|Mozilla/5.0 (comp...| Android|\n",
            "|2023-10-05 18:48:05|7798663185667|            hall.net| 809701|  11489|  82.141.112.88|  110.103.99.71| England|    2.66|      HTTPS|Mozilla/5.0 (iPad...|     iOS|\n",
            "|2023-10-02 13:47:58| 150443056843|            todd.com| 204941| 114006|   161.8.210.40| 208.230.61.215|Scotland|    2.69|       HTTP|Opera/9.36.(X11; ...| Android|\n",
            "+-------------------+-------------+--------------------+-------+-------+---------------+---------------+--------+--------+-----------+--------------------+--------+\n",
            "only showing top 20 rows\n",
            "\n"
          ]
        }
      ]
    },
    {
      "cell_type": "code",
      "source": [
        "# where ever the null(na) find in table drop it.\n",
        "df.dropna().show()"
      ],
      "metadata": {
        "colab": {
          "base_uri": "https://localhost:8080/"
        },
        "id": "SNVG_a6yHKUQ",
        "outputId": "77089fcb-fcbe-43a2-ed9c-a90e29103e7e"
      },
      "execution_count": null,
      "outputs": [
        {
          "output_type": "stream",
          "name": "stdout",
          "text": [
            "+-------------------+-------------+--------------------+-------+-------+---------------+---------------+--------+--------+-----------+--------------------+--------+\n",
            "|          date_time|       userid|              domain|dlbytes|ulbytes|       clientip|       serverip| country|txn_time|http_method|          user_agent|platform|\n",
            "+-------------------+-------------+--------------------+-------+-------+---------------+---------------+--------+--------+-----------+--------------------+--------+\n",
            "|2023-10-04 11:37:11|7773153683656|    ryan-wells.co.uk| 872807| 741526|142.132.219.110|  62.42.184.180| England|    2.33|      HTTPS|Mozilla/5.0 (Wind...| Android|\n",
            "|2023-10-04 12:17:07|1886351675683|         hopkins.org|  50898| 529504|  184.205.48.78|  152.123.41.39|   Wales|     1.2|       HTTP|Mozilla/5.0 (Wind...| Android|\n",
            "|2023-10-02 23:25:12|1597721345356|           evans.com| 964276| 952420|  189.30.60.163|  68.171.236.18|Scotland|    1.32|       HTTP|Mozilla/5.0 (Wind...|   Linux|\n",
            "|2023-10-03 09:43:11|9766845800247|           kelly.com| 212529| 811887|   13.144.79.35|  63.141.80.109| England|    2.58|      HTTPS|Opera/8.54.(X11; ...| Android|\n",
            "|2023-10-01 08:16:46|1546762097287|richardson-walker...| 553626| 901428| 143.74.163.248|  26.253.17.223|   Wales|    1.53|       HTTP|Mozilla/5.0 (Maci...| Windows|\n",
            "|2023-10-01 13:49:39|8949163845658|            lowe.com|  43595|  77597|  148.15.214.37|     4.33.9.229| England|    1.68|       HTTP|Mozilla/5.0 (Linu...|     Mac|\n",
            "|2023-10-02 02:22:30|8035878244556|            webb.com| 270574|  94701|  73.78.116.223|    82.69.61.25| England|    2.19|      HTTPS|Mozilla/5.0 (Wind...| Windows|\n",
            "|2023-10-03 11:48:19|3400788003398|           watts.com| 342378| 715125|  142.37.27.131| 41.152.174.228|Scotland|    2.92|       HTTP|Opera/8.53.(Windo...|   Linux|\n",
            "|2023-10-02 12:45:41|7007039082075|   kemp-robinson.org| 613214| 239494| 80.245.249.129|198.186.190.149|Scotland|    1.78|      HTTPS|Mozilla/5.0 (X11;...|     Mac|\n",
            "|2023-10-03 08:59:16| 893913938070|           smith.com| 643362| 146752|    21.239.54.8|  136.170.182.7| England|    0.58|      HTTPS|Mozilla/5.0 (Andr...| Windows|\n",
            "|2023-10-05 21:36:53|3102780874474|   wilson-butler.com| 603759| 616834| 57.113.168.155|162.232.192.227| Ireland|    2.42|      HTTPS|Mozilla/5.0 (Andr...|     Mac|\n",
            "|2023-10-02 03:26:59|7214908687567|            hunt.com| 707145| 995270|  98.141.197.15| 107.239.246.38| England|    1.95|       HTTP|Opera/9.31.(Windo...|     iOS|\n",
            "|2023-10-04 03:09:58| 291279030607|           jones.org| 640439| 373389|       98.3.2.5|   148.44.76.68|   Wales|    2.47|       HTTP|Mozilla/5.0 (Maci...|     Mac|\n",
            "|2023-10-02 10:16:25|1042763747479|         thomas.info| 764956| 952036|187.182.236.233|   85.61.114.36| England|    1.42|       HTTP|Mozilla/5.0 (Andr...| Android|\n",
            "|2023-10-05 02:22:40|2322746906974|franklin-whittake...| 651947| 183369| 26.138.157.236| 142.176.162.10| Ireland|    1.35|      HTTPS|Opera/8.74.(Windo...|   Linux|\n",
            "|2023-10-01 18:12:17| 316289568864|         godfrey.com| 428528|  78946| 65.224.238.100|  128.90.192.17| Ireland|    1.61|       HTTP|Opera/9.16.(Windo...|   Linux|\n",
            "|2023-10-01 20:09:39|1093994305313|          wilson.com|  23710|  84942|  129.221.29.97|  18.191.29.117|   Wales|    1.25|       HTTP|Opera/9.17.(X11; ...|     iOS|\n",
            "|2023-10-03 04:45:13|7035874783254|      cole-jones.com| 447095| 390148|   94.98.62.187|172.173.228.171|   Wales|    2.43|       HTTP|Mozilla/5.0 (comp...| Android|\n",
            "|2023-10-05 18:48:05|7798663185667|            hall.net| 809701|  11489|  82.141.112.88|  110.103.99.71| England|    2.66|      HTTPS|Mozilla/5.0 (iPad...|     iOS|\n",
            "|2023-10-02 13:47:58| 150443056843|            todd.com| 204941| 114006|   161.8.210.40| 208.230.61.215|Scotland|    2.69|       HTTP|Opera/9.36.(X11; ...| Android|\n",
            "+-------------------+-------------+--------------------+-------+-------+---------------+---------------+--------+--------+-----------+--------------------+--------+\n",
            "only showing top 20 rows\n",
            "\n"
          ]
        }
      ]
    },
    {
      "cell_type": "code",
      "source": [
        "# if any values is null in any coulumn (subset) than drop that row\n",
        "df.dropna(subset=['country', 'dlbytes']).show()"
      ],
      "metadata": {
        "colab": {
          "base_uri": "https://localhost:8080/"
        },
        "id": "BYgo5s_IKnCQ",
        "outputId": "7403bf45-7ba4-448d-fca6-4191ff694f50"
      },
      "execution_count": null,
      "outputs": [
        {
          "output_type": "stream",
          "name": "stdout",
          "text": [
            "+-------------------+-------------+--------------------+-------+-------+---------------+---------------+--------+--------+-----------+--------------------+--------+\n",
            "|          date_time|       userid|              domain|dlbytes|ulbytes|       clientip|       serverip| country|txn_time|http_method|          user_agent|platform|\n",
            "+-------------------+-------------+--------------------+-------+-------+---------------+---------------+--------+--------+-----------+--------------------+--------+\n",
            "|2023-10-04 11:37:11|7773153683656|    ryan-wells.co.uk| 872807| 741526|142.132.219.110|  62.42.184.180| England|    2.33|      HTTPS|Mozilla/5.0 (Wind...| Android|\n",
            "|2023-10-04 12:17:07|1886351675683|         hopkins.org|  50898| 529504|  184.205.48.78|  152.123.41.39|   Wales|     1.2|       HTTP|Mozilla/5.0 (Wind...| Android|\n",
            "|2023-10-02 23:25:12|1597721345356|           evans.com| 964276| 952420|  189.30.60.163|  68.171.236.18|Scotland|    1.32|       HTTP|Mozilla/5.0 (Wind...|   Linux|\n",
            "|2023-10-03 09:43:11|9766845800247|           kelly.com| 212529| 811887|   13.144.79.35|  63.141.80.109| England|    2.58|      HTTPS|Opera/8.54.(X11; ...| Android|\n",
            "|2023-10-01 08:16:46|1546762097287|richardson-walker...| 553626| 901428| 143.74.163.248|  26.253.17.223|   Wales|    1.53|       HTTP|Mozilla/5.0 (Maci...| Windows|\n",
            "|2023-10-01 13:49:39|8949163845658|            lowe.com|  43595|  77597|  148.15.214.37|     4.33.9.229| England|    1.68|       HTTP|Mozilla/5.0 (Linu...|     Mac|\n",
            "|2023-10-02 02:22:30|8035878244556|            webb.com| 270574|  94701|  73.78.116.223|    82.69.61.25| England|    2.19|      HTTPS|Mozilla/5.0 (Wind...| Windows|\n",
            "|2023-10-03 11:48:19|3400788003398|           watts.com| 342378| 715125|  142.37.27.131| 41.152.174.228|Scotland|    2.92|       HTTP|Opera/8.53.(Windo...|   Linux|\n",
            "|2023-10-02 12:45:41|7007039082075|   kemp-robinson.org| 613214| 239494| 80.245.249.129|198.186.190.149|Scotland|    1.78|      HTTPS|Mozilla/5.0 (X11;...|     Mac|\n",
            "|2023-10-03 08:59:16| 893913938070|           smith.com| 643362| 146752|    21.239.54.8|  136.170.182.7| England|    0.58|      HTTPS|Mozilla/5.0 (Andr...| Windows|\n",
            "|2023-10-05 21:36:53|3102780874474|   wilson-butler.com| 603759| 616834| 57.113.168.155|162.232.192.227| Ireland|    2.42|      HTTPS|Mozilla/5.0 (Andr...|     Mac|\n",
            "|2023-10-02 03:26:59|7214908687567|            hunt.com| 707145| 995270|  98.141.197.15| 107.239.246.38| England|    1.95|       HTTP|Opera/9.31.(Windo...|     iOS|\n",
            "|2023-10-04 03:09:58| 291279030607|           jones.org| 640439| 373389|       98.3.2.5|   148.44.76.68|   Wales|    2.47|       HTTP|Mozilla/5.0 (Maci...|     Mac|\n",
            "|2023-10-02 10:16:25|1042763747479|         thomas.info| 764956| 952036|187.182.236.233|   85.61.114.36| England|    1.42|       HTTP|Mozilla/5.0 (Andr...| Android|\n",
            "|2023-10-05 02:22:40|2322746906974|franklin-whittake...| 651947| 183369| 26.138.157.236| 142.176.162.10| Ireland|    1.35|      HTTPS|Opera/8.74.(Windo...|   Linux|\n",
            "|2023-10-01 18:12:17| 316289568864|         godfrey.com| 428528|  78946| 65.224.238.100|  128.90.192.17| Ireland|    1.61|       HTTP|Opera/9.16.(Windo...|   Linux|\n",
            "|2023-10-01 20:09:39|1093994305313|          wilson.com|  23710|  84942|  129.221.29.97|  18.191.29.117|   Wales|    1.25|       HTTP|Opera/9.17.(X11; ...|     iOS|\n",
            "|2023-10-03 04:45:13|7035874783254|      cole-jones.com| 447095| 390148|   94.98.62.187|172.173.228.171|   Wales|    2.43|       HTTP|Mozilla/5.0 (comp...| Android|\n",
            "|2023-10-05 18:48:05|7798663185667|            hall.net| 809701|  11489|  82.141.112.88|  110.103.99.71| England|    2.66|      HTTPS|Mozilla/5.0 (iPad...|     iOS|\n",
            "|2023-10-02 13:47:58| 150443056843|            todd.com| 204941| 114006|   161.8.210.40| 208.230.61.215|Scotland|    2.69|       HTTP|Opera/9.36.(X11; ...| Android|\n",
            "+-------------------+-------------+--------------------+-------+-------+---------------+---------------+--------+--------+-----------+--------------------+--------+\n",
            "only showing top 20 rows\n",
            "\n"
          ]
        }
      ]
    },
    {
      "cell_type": "code",
      "source": [
        "# Fill the column where is null in specified column\n",
        "df.fillna(\n",
        "    {\n",
        "        'dlbytes':0,\n",
        "        'ulbytes':0,\n",
        "        'country':'unknown'\n",
        "    }\n",
        ").show()"
      ],
      "metadata": {
        "colab": {
          "base_uri": "https://localhost:8080/"
        },
        "id": "IlOxMRp9LYOR",
        "outputId": "f8c13f53-0db3-43eb-ebed-2cbd3cdf56e6"
      },
      "execution_count": null,
      "outputs": [
        {
          "output_type": "stream",
          "name": "stdout",
          "text": [
            "+-------------------+-------------+--------------------+-------+-------+---------------+---------------+--------+--------+-----------+--------------------+--------+\n",
            "|          date_time|       userid|              domain|dlbytes|ulbytes|       clientip|       serverip| country|txn_time|http_method|          user_agent|platform|\n",
            "+-------------------+-------------+--------------------+-------+-------+---------------+---------------+--------+--------+-----------+--------------------+--------+\n",
            "|2023-10-04 11:37:11|7773153683656|    ryan-wells.co.uk| 872807| 741526|142.132.219.110|  62.42.184.180| England|    2.33|      HTTPS|Mozilla/5.0 (Wind...| Android|\n",
            "|2023-10-04 12:17:07|1886351675683|         hopkins.org|  50898| 529504|  184.205.48.78|  152.123.41.39|   Wales|     1.2|       HTTP|Mozilla/5.0 (Wind...| Android|\n",
            "|2023-10-02 23:25:12|1597721345356|           evans.com| 964276| 952420|  189.30.60.163|  68.171.236.18|Scotland|    1.32|       HTTP|Mozilla/5.0 (Wind...|   Linux|\n",
            "|2023-10-03 09:43:11|9766845800247|           kelly.com| 212529| 811887|   13.144.79.35|  63.141.80.109| England|    2.58|      HTTPS|Opera/8.54.(X11; ...| Android|\n",
            "|2023-10-01 08:16:46|1546762097287|richardson-walker...| 553626| 901428| 143.74.163.248|  26.253.17.223|   Wales|    1.53|       HTTP|Mozilla/5.0 (Maci...| Windows|\n",
            "|2023-10-01 13:49:39|8949163845658|            lowe.com|  43595|  77597|  148.15.214.37|     4.33.9.229| England|    1.68|       HTTP|Mozilla/5.0 (Linu...|     Mac|\n",
            "|2023-10-02 02:22:30|8035878244556|            webb.com| 270574|  94701|  73.78.116.223|    82.69.61.25| England|    2.19|      HTTPS|Mozilla/5.0 (Wind...| Windows|\n",
            "|2023-10-03 11:48:19|3400788003398|           watts.com| 342378| 715125|  142.37.27.131| 41.152.174.228|Scotland|    2.92|       HTTP|Opera/8.53.(Windo...|   Linux|\n",
            "|2023-10-02 12:45:41|7007039082075|   kemp-robinson.org| 613214| 239494| 80.245.249.129|198.186.190.149|Scotland|    1.78|      HTTPS|Mozilla/5.0 (X11;...|     Mac|\n",
            "|2023-10-03 08:59:16| 893913938070|           smith.com| 643362| 146752|    21.239.54.8|  136.170.182.7| England|    0.58|      HTTPS|Mozilla/5.0 (Andr...| Windows|\n",
            "|2023-10-05 21:36:53|3102780874474|   wilson-butler.com| 603759| 616834| 57.113.168.155|162.232.192.227| Ireland|    2.42|      HTTPS|Mozilla/5.0 (Andr...|     Mac|\n",
            "|2023-10-02 03:26:59|7214908687567|            hunt.com| 707145| 995270|  98.141.197.15| 107.239.246.38| England|    1.95|       HTTP|Opera/9.31.(Windo...|     iOS|\n",
            "|2023-10-04 03:09:58| 291279030607|           jones.org| 640439| 373389|       98.3.2.5|   148.44.76.68|   Wales|    2.47|       HTTP|Mozilla/5.0 (Maci...|     Mac|\n",
            "|2023-10-02 10:16:25|1042763747479|         thomas.info| 764956| 952036|187.182.236.233|   85.61.114.36| England|    1.42|       HTTP|Mozilla/5.0 (Andr...| Android|\n",
            "|2023-10-05 02:22:40|2322746906974|franklin-whittake...| 651947| 183369| 26.138.157.236| 142.176.162.10| Ireland|    1.35|      HTTPS|Opera/8.74.(Windo...|   Linux|\n",
            "|2023-10-01 18:12:17| 316289568864|         godfrey.com| 428528|  78946| 65.224.238.100|  128.90.192.17| Ireland|    1.61|       HTTP|Opera/9.16.(Windo...|   Linux|\n",
            "|2023-10-01 20:09:39|1093994305313|          wilson.com|  23710|  84942|  129.221.29.97|  18.191.29.117|   Wales|    1.25|       HTTP|Opera/9.17.(X11; ...|     iOS|\n",
            "|2023-10-03 04:45:13|7035874783254|      cole-jones.com| 447095| 390148|   94.98.62.187|172.173.228.171|   Wales|    2.43|       HTTP|Mozilla/5.0 (comp...| Android|\n",
            "|2023-10-05 18:48:05|7798663185667|            hall.net| 809701|  11489|  82.141.112.88|  110.103.99.71| England|    2.66|      HTTPS|Mozilla/5.0 (iPad...|     iOS|\n",
            "|2023-10-02 13:47:58| 150443056843|            todd.com| 204941| 114006|   161.8.210.40| 208.230.61.215|Scotland|    2.69|       HTTP|Opera/9.36.(X11; ...| Android|\n",
            "+-------------------+-------------+--------------------+-------+-------+---------------+---------------+--------+--------+-----------+--------------------+--------+\n",
            "only showing top 20 rows\n",
            "\n"
          ]
        }
      ]
    },
    {
      "cell_type": "code",
      "source": [
        "df.fillna('1').show()\n"
      ],
      "metadata": {
        "colab": {
          "base_uri": "https://localhost:8080/"
        },
        "id": "VRDrSB1pMOrQ",
        "outputId": "c3a76f77-6122-4039-fbf3-87e91bb14b46"
      },
      "execution_count": null,
      "outputs": [
        {
          "output_type": "stream",
          "name": "stdout",
          "text": [
            "+-------------------+-------------+--------------------+-------+-------+---------------+---------------+--------+--------+-----------+--------------------+--------+\n",
            "|          date_time|       userid|              domain|dlbytes|ulbytes|       clientip|       serverip| country|txn_time|http_method|          user_agent|platform|\n",
            "+-------------------+-------------+--------------------+-------+-------+---------------+---------------+--------+--------+-----------+--------------------+--------+\n",
            "|2023-10-04 11:37:11|7773153683656|    ryan-wells.co.uk| 872807| 741526|142.132.219.110|  62.42.184.180| England|    2.33|      HTTPS|Mozilla/5.0 (Wind...| Android|\n",
            "|2023-10-04 12:17:07|1886351675683|         hopkins.org|  50898| 529504|  184.205.48.78|  152.123.41.39|   Wales|     1.2|       HTTP|Mozilla/5.0 (Wind...| Android|\n",
            "|2023-10-02 23:25:12|1597721345356|           evans.com| 964276| 952420|  189.30.60.163|  68.171.236.18|Scotland|    1.32|       HTTP|Mozilla/5.0 (Wind...|   Linux|\n",
            "|2023-10-03 09:43:11|9766845800247|           kelly.com| 212529| 811887|   13.144.79.35|  63.141.80.109| England|    2.58|      HTTPS|Opera/8.54.(X11; ...| Android|\n",
            "|2023-10-01 08:16:46|1546762097287|richardson-walker...| 553626| 901428| 143.74.163.248|  26.253.17.223|   Wales|    1.53|       HTTP|Mozilla/5.0 (Maci...| Windows|\n",
            "|2023-10-01 13:49:39|8949163845658|            lowe.com|  43595|  77597|  148.15.214.37|     4.33.9.229| England|    1.68|       HTTP|Mozilla/5.0 (Linu...|     Mac|\n",
            "|2023-10-02 02:22:30|8035878244556|            webb.com| 270574|  94701|  73.78.116.223|    82.69.61.25| England|    2.19|      HTTPS|Mozilla/5.0 (Wind...| Windows|\n",
            "|2023-10-03 11:48:19|3400788003398|           watts.com| 342378| 715125|  142.37.27.131| 41.152.174.228|Scotland|    2.92|       HTTP|Opera/8.53.(Windo...|   Linux|\n",
            "|2023-10-02 12:45:41|7007039082075|   kemp-robinson.org| 613214| 239494| 80.245.249.129|198.186.190.149|Scotland|    1.78|      HTTPS|Mozilla/5.0 (X11;...|     Mac|\n",
            "|2023-10-03 08:59:16| 893913938070|           smith.com| 643362| 146752|    21.239.54.8|  136.170.182.7| England|    0.58|      HTTPS|Mozilla/5.0 (Andr...| Windows|\n",
            "|2023-10-05 21:36:53|3102780874474|   wilson-butler.com| 603759| 616834| 57.113.168.155|162.232.192.227| Ireland|    2.42|      HTTPS|Mozilla/5.0 (Andr...|     Mac|\n",
            "|2023-10-02 03:26:59|7214908687567|            hunt.com| 707145| 995270|  98.141.197.15| 107.239.246.38| England|    1.95|       HTTP|Opera/9.31.(Windo...|     iOS|\n",
            "|2023-10-04 03:09:58| 291279030607|           jones.org| 640439| 373389|       98.3.2.5|   148.44.76.68|   Wales|    2.47|       HTTP|Mozilla/5.0 (Maci...|     Mac|\n",
            "|2023-10-02 10:16:25|1042763747479|         thomas.info| 764956| 952036|187.182.236.233|   85.61.114.36| England|    1.42|       HTTP|Mozilla/5.0 (Andr...| Android|\n",
            "|2023-10-05 02:22:40|2322746906974|franklin-whittake...| 651947| 183369| 26.138.157.236| 142.176.162.10| Ireland|    1.35|      HTTPS|Opera/8.74.(Windo...|   Linux|\n",
            "|2023-10-01 18:12:17| 316289568864|         godfrey.com| 428528|  78946| 65.224.238.100|  128.90.192.17| Ireland|    1.61|       HTTP|Opera/9.16.(Windo...|   Linux|\n",
            "|2023-10-01 20:09:39|1093994305313|          wilson.com|  23710|  84942|  129.221.29.97|  18.191.29.117|   Wales|    1.25|       HTTP|Opera/9.17.(X11; ...|     iOS|\n",
            "|2023-10-03 04:45:13|7035874783254|      cole-jones.com| 447095| 390148|   94.98.62.187|172.173.228.171|   Wales|    2.43|       HTTP|Mozilla/5.0 (comp...| Android|\n",
            "|2023-10-05 18:48:05|7798663185667|            hall.net| 809701|  11489|  82.141.112.88|  110.103.99.71| England|    2.66|      HTTPS|Mozilla/5.0 (iPad...|     iOS|\n",
            "|2023-10-02 13:47:58| 150443056843|            todd.com| 204941| 114006|   161.8.210.40| 208.230.61.215|Scotland|    2.69|       HTTP|Opera/9.36.(X11; ...| Android|\n",
            "+-------------------+-------------+--------------------+-------+-------+---------------+---------------+--------+--------+-----------+--------------------+--------+\n",
            "only showing top 20 rows\n",
            "\n"
          ]
        }
      ]
    },
    {
      "cell_type": "code",
      "source": [
        "df.fillna('1').show()"
      ],
      "metadata": {
        "colab": {
          "base_uri": "https://localhost:8080/"
        },
        "id": "VYYv2gp4Masi",
        "outputId": "a810b828-e40c-45c2-8515-070932fe90ac"
      },
      "execution_count": null,
      "outputs": [
        {
          "output_type": "stream",
          "name": "stdout",
          "text": [
            "+-------------------+-------------+--------------------+-------+-------+---------------+---------------+--------+--------+-----------+--------------------+--------+\n",
            "|          date_time|       userid|              domain|dlbytes|ulbytes|       clientip|       serverip| country|txn_time|http_method|          user_agent|platform|\n",
            "+-------------------+-------------+--------------------+-------+-------+---------------+---------------+--------+--------+-----------+--------------------+--------+\n",
            "|2023-10-04 11:37:11|7773153683656|    ryan-wells.co.uk| 872807| 741526|142.132.219.110|  62.42.184.180| England|    2.33|      HTTPS|Mozilla/5.0 (Wind...| Android|\n",
            "|2023-10-04 12:17:07|1886351675683|         hopkins.org|  50898| 529504|  184.205.48.78|  152.123.41.39|   Wales|     1.2|       HTTP|Mozilla/5.0 (Wind...| Android|\n",
            "|2023-10-02 23:25:12|1597721345356|           evans.com| 964276| 952420|  189.30.60.163|  68.171.236.18|Scotland|    1.32|       HTTP|Mozilla/5.0 (Wind...|   Linux|\n",
            "|2023-10-03 09:43:11|9766845800247|           kelly.com| 212529| 811887|   13.144.79.35|  63.141.80.109| England|    2.58|      HTTPS|Opera/8.54.(X11; ...| Android|\n",
            "|2023-10-01 08:16:46|1546762097287|richardson-walker...| 553626| 901428| 143.74.163.248|  26.253.17.223|   Wales|    1.53|       HTTP|Mozilla/5.0 (Maci...| Windows|\n",
            "|2023-10-01 13:49:39|8949163845658|            lowe.com|  43595|  77597|  148.15.214.37|     4.33.9.229| England|    1.68|       HTTP|Mozilla/5.0 (Linu...|     Mac|\n",
            "|2023-10-02 02:22:30|8035878244556|            webb.com| 270574|  94701|  73.78.116.223|    82.69.61.25| England|    2.19|      HTTPS|Mozilla/5.0 (Wind...| Windows|\n",
            "|2023-10-03 11:48:19|3400788003398|           watts.com| 342378| 715125|  142.37.27.131| 41.152.174.228|Scotland|    2.92|       HTTP|Opera/8.53.(Windo...|   Linux|\n",
            "|2023-10-02 12:45:41|7007039082075|   kemp-robinson.org| 613214| 239494| 80.245.249.129|198.186.190.149|Scotland|    1.78|      HTTPS|Mozilla/5.0 (X11;...|     Mac|\n",
            "|2023-10-03 08:59:16| 893913938070|           smith.com| 643362| 146752|    21.239.54.8|  136.170.182.7| England|    0.58|      HTTPS|Mozilla/5.0 (Andr...| Windows|\n",
            "|2023-10-05 21:36:53|3102780874474|   wilson-butler.com| 603759| 616834| 57.113.168.155|162.232.192.227| Ireland|    2.42|      HTTPS|Mozilla/5.0 (Andr...|     Mac|\n",
            "|2023-10-02 03:26:59|7214908687567|            hunt.com| 707145| 995270|  98.141.197.15| 107.239.246.38| England|    1.95|       HTTP|Opera/9.31.(Windo...|     iOS|\n",
            "|2023-10-04 03:09:58| 291279030607|           jones.org| 640439| 373389|       98.3.2.5|   148.44.76.68|   Wales|    2.47|       HTTP|Mozilla/5.0 (Maci...|     Mac|\n",
            "|2023-10-02 10:16:25|1042763747479|         thomas.info| 764956| 952036|187.182.236.233|   85.61.114.36| England|    1.42|       HTTP|Mozilla/5.0 (Andr...| Android|\n",
            "|2023-10-05 02:22:40|2322746906974|franklin-whittake...| 651947| 183369| 26.138.157.236| 142.176.162.10| Ireland|    1.35|      HTTPS|Opera/8.74.(Windo...|   Linux|\n",
            "|2023-10-01 18:12:17| 316289568864|         godfrey.com| 428528|  78946| 65.224.238.100|  128.90.192.17| Ireland|    1.61|       HTTP|Opera/9.16.(Windo...|   Linux|\n",
            "|2023-10-01 20:09:39|1093994305313|          wilson.com|  23710|  84942|  129.221.29.97|  18.191.29.117|   Wales|    1.25|       HTTP|Opera/9.17.(X11; ...|     iOS|\n",
            "|2023-10-03 04:45:13|7035874783254|      cole-jones.com| 447095| 390148|   94.98.62.187|172.173.228.171|   Wales|    2.43|       HTTP|Mozilla/5.0 (comp...| Android|\n",
            "|2023-10-05 18:48:05|7798663185667|            hall.net| 809701|  11489|  82.141.112.88|  110.103.99.71| England|    2.66|      HTTPS|Mozilla/5.0 (iPad...|     iOS|\n",
            "|2023-10-02 13:47:58| 150443056843|            todd.com| 204941| 114006|   161.8.210.40| 208.230.61.215|Scotland|    2.69|       HTTP|Opera/9.36.(X11; ...| Android|\n",
            "+-------------------+-------------+--------------------+-------+-------+---------------+---------------+--------+--------+-----------+--------------------+--------+\n",
            "only showing top 20 rows\n",
            "\n"
          ]
        }
      ]
    },
    {
      "cell_type": "code",
      "source": [
        "# import from pyspark to  sql functions as F\n",
        "from pyspark.sql import functions as F"
      ],
      "metadata": {
        "id": "NeTSfsCVMmlI"
      },
      "execution_count": null,
      "outputs": []
    },
    {
      "cell_type": "code",
      "source": [
        "# calculate average using aggrigate\n",
        "average = df.agg(F.avg('dlbytes')).collect()"
      ],
      "metadata": {
        "id": "6-IzqrvtOYPd"
      },
      "execution_count": null,
      "outputs": []
    },
    {
      "cell_type": "code",
      "source": [
        "print(average)"
      ],
      "metadata": {
        "colab": {
          "base_uri": "https://localhost:8080/"
        },
        "id": "komI2VZdQV-R",
        "outputId": "91048b22-cdc2-407e-f1e2-262b084d92e9"
      },
      "execution_count": null,
      "outputs": [
        {
          "output_type": "stream",
          "name": "stdout",
          "text": [
            "[Row(avg(dlbytes)=499993.58573)]\n"
          ]
        }
      ]
    },
    {
      "cell_type": "code",
      "source": [
        "average = df.agg(F.avg('dlbytes')).collect()[0][0] #[0][0]means interpreting inside value of row"
      ],
      "metadata": {
        "id": "ZvjpT1zWQh-d"
      },
      "execution_count": null,
      "outputs": []
    },
    {
      "cell_type": "code",
      "source": [
        "# replaced null value and used  average in dlbytes column\n",
        "df.fillna(\n",
        "    {\n",
        "       'dlbytes':average,\n",
        "        'ulbytes':0,\n",
        "        'country':'unknown'\n",
        "    }\n",
        ").show()"
      ],
      "metadata": {
        "colab": {
          "base_uri": "https://localhost:8080/"
        },
        "id": "nCMOmELaQtAc",
        "outputId": "a661bde6-3941-44b7-d75a-2994513ec2b0"
      },
      "execution_count": null,
      "outputs": [
        {
          "output_type": "stream",
          "name": "stdout",
          "text": [
            "+-------------------+-------------+--------------------+-------+-------+---------------+---------------+--------+--------+-----------+--------------------+--------+\n",
            "|          date_time|       userid|              domain|dlbytes|ulbytes|       clientip|       serverip| country|txn_time|http_method|          user_agent|platform|\n",
            "+-------------------+-------------+--------------------+-------+-------+---------------+---------------+--------+--------+-----------+--------------------+--------+\n",
            "|2023-10-04 11:37:11|7773153683656|    ryan-wells.co.uk| 872807| 741526|142.132.219.110|  62.42.184.180| England|    2.33|      HTTPS|Mozilla/5.0 (Wind...| Android|\n",
            "|2023-10-04 12:17:07|1886351675683|         hopkins.org|  50898| 529504|  184.205.48.78|  152.123.41.39|   Wales|     1.2|       HTTP|Mozilla/5.0 (Wind...| Android|\n",
            "|2023-10-02 23:25:12|1597721345356|           evans.com| 964276| 952420|  189.30.60.163|  68.171.236.18|Scotland|    1.32|       HTTP|Mozilla/5.0 (Wind...|   Linux|\n",
            "|2023-10-03 09:43:11|9766845800247|           kelly.com| 212529| 811887|   13.144.79.35|  63.141.80.109| England|    2.58|      HTTPS|Opera/8.54.(X11; ...| Android|\n",
            "|2023-10-01 08:16:46|1546762097287|richardson-walker...| 553626| 901428| 143.74.163.248|  26.253.17.223|   Wales|    1.53|       HTTP|Mozilla/5.0 (Maci...| Windows|\n",
            "|2023-10-01 13:49:39|8949163845658|            lowe.com|  43595|  77597|  148.15.214.37|     4.33.9.229| England|    1.68|       HTTP|Mozilla/5.0 (Linu...|     Mac|\n",
            "|2023-10-02 02:22:30|8035878244556|            webb.com| 270574|  94701|  73.78.116.223|    82.69.61.25| England|    2.19|      HTTPS|Mozilla/5.0 (Wind...| Windows|\n",
            "|2023-10-03 11:48:19|3400788003398|           watts.com| 342378| 715125|  142.37.27.131| 41.152.174.228|Scotland|    2.92|       HTTP|Opera/8.53.(Windo...|   Linux|\n",
            "|2023-10-02 12:45:41|7007039082075|   kemp-robinson.org| 613214| 239494| 80.245.249.129|198.186.190.149|Scotland|    1.78|      HTTPS|Mozilla/5.0 (X11;...|     Mac|\n",
            "|2023-10-03 08:59:16| 893913938070|           smith.com| 643362| 146752|    21.239.54.8|  136.170.182.7| England|    0.58|      HTTPS|Mozilla/5.0 (Andr...| Windows|\n",
            "|2023-10-05 21:36:53|3102780874474|   wilson-butler.com| 603759| 616834| 57.113.168.155|162.232.192.227| Ireland|    2.42|      HTTPS|Mozilla/5.0 (Andr...|     Mac|\n",
            "|2023-10-02 03:26:59|7214908687567|            hunt.com| 707145| 995270|  98.141.197.15| 107.239.246.38| England|    1.95|       HTTP|Opera/9.31.(Windo...|     iOS|\n",
            "|2023-10-04 03:09:58| 291279030607|           jones.org| 640439| 373389|       98.3.2.5|   148.44.76.68|   Wales|    2.47|       HTTP|Mozilla/5.0 (Maci...|     Mac|\n",
            "|2023-10-02 10:16:25|1042763747479|         thomas.info| 764956| 952036|187.182.236.233|   85.61.114.36| England|    1.42|       HTTP|Mozilla/5.0 (Andr...| Android|\n",
            "|2023-10-05 02:22:40|2322746906974|franklin-whittake...| 651947| 183369| 26.138.157.236| 142.176.162.10| Ireland|    1.35|      HTTPS|Opera/8.74.(Windo...|   Linux|\n",
            "|2023-10-01 18:12:17| 316289568864|         godfrey.com| 428528|  78946| 65.224.238.100|  128.90.192.17| Ireland|    1.61|       HTTP|Opera/9.16.(Windo...|   Linux|\n",
            "|2023-10-01 20:09:39|1093994305313|          wilson.com|  23710|  84942|  129.221.29.97|  18.191.29.117|   Wales|    1.25|       HTTP|Opera/9.17.(X11; ...|     iOS|\n",
            "|2023-10-03 04:45:13|7035874783254|      cole-jones.com| 447095| 390148|   94.98.62.187|172.173.228.171|   Wales|    2.43|       HTTP|Mozilla/5.0 (comp...| Android|\n",
            "|2023-10-05 18:48:05|7798663185667|            hall.net| 809701|  11489|  82.141.112.88|  110.103.99.71| England|    2.66|      HTTPS|Mozilla/5.0 (iPad...|     iOS|\n",
            "|2023-10-02 13:47:58| 150443056843|            todd.com| 204941| 114006|   161.8.210.40| 208.230.61.215|Scotland|    2.69|       HTTP|Opera/9.36.(X11; ...| Android|\n",
            "+-------------------+-------------+--------------------+-------+-------+---------------+---------------+--------+--------+-----------+--------------------+--------+\n",
            "only showing top 20 rows\n",
            "\n"
          ]
        }
      ]
    },
    {
      "cell_type": "code",
      "source": [
        "print(average)"
      ],
      "metadata": {
        "colab": {
          "base_uri": "https://localhost:8080/"
        },
        "id": "yjxt7_tDQqFB",
        "outputId": "0fae92fb-46b0-403d-d1f8-5f61562037ff"
      },
      "execution_count": null,
      "outputs": [
        {
          "output_type": "stream",
          "name": "stdout",
          "text": [
            "499993.58573\n"
          ]
        }
      ]
    },
    {
      "cell_type": "code",
      "source": [
        "average = df.agg(F.avg('dlbytes')).collect()"
      ],
      "metadata": {
        "id": "tni-sGE3Q5RJ"
      },
      "execution_count": null,
      "outputs": []
    },
    {
      "cell_type": "code",
      "source": [
        "print(average)\n",
        "print(average[0][0])"
      ],
      "metadata": {
        "colab": {
          "base_uri": "https://localhost:8080/"
        },
        "id": "1846IchDSIQ_",
        "outputId": "ce9ca3f6-481d-4af8-cb6a-db69e0c06b7b"
      },
      "execution_count": null,
      "outputs": [
        {
          "output_type": "stream",
          "name": "stdout",
          "text": [
            "[Row(avg(dlbytes)=499993.58573)]\n",
            "499993.58573\n"
          ]
        }
      ]
    },
    {
      "cell_type": "code",
      "source": [
        "#how to use sql in data frame\n",
        "df.show()\n"
      ],
      "metadata": {
        "colab": {
          "base_uri": "https://localhost:8080/"
        },
        "id": "t5Rc4XQfSVA5",
        "outputId": "da61883d-d035-4989-e6cb-243552fca20e"
      },
      "execution_count": null,
      "outputs": [
        {
          "output_type": "stream",
          "name": "stdout",
          "text": [
            "+-------------------+-------------+--------------------+-------+-------+---------------+---------------+--------+--------+-----------+--------------------+--------+\n",
            "|          date_time|       userid|              domain|dlbytes|ulbytes|       clientip|       serverip| country|txn_time|http_method|          user_agent|platform|\n",
            "+-------------------+-------------+--------------------+-------+-------+---------------+---------------+--------+--------+-----------+--------------------+--------+\n",
            "|2023-10-04 11:37:11|7773153683656|    ryan-wells.co.uk| 872807| 741526|142.132.219.110|  62.42.184.180| England|    2.33|      HTTPS|Mozilla/5.0 (Wind...| Android|\n",
            "|2023-10-04 12:17:07|1886351675683|         hopkins.org|  50898| 529504|  184.205.48.78|  152.123.41.39|   Wales|     1.2|       HTTP|Mozilla/5.0 (Wind...| Android|\n",
            "|2023-10-02 23:25:12|1597721345356|           evans.com| 964276| 952420|  189.30.60.163|  68.171.236.18|Scotland|    1.32|       HTTP|Mozilla/5.0 (Wind...|   Linux|\n",
            "|2023-10-03 09:43:11|9766845800247|           kelly.com| 212529| 811887|   13.144.79.35|  63.141.80.109| England|    2.58|      HTTPS|Opera/8.54.(X11; ...| Android|\n",
            "|2023-10-01 08:16:46|1546762097287|richardson-walker...| 553626| 901428| 143.74.163.248|  26.253.17.223|   Wales|    1.53|       HTTP|Mozilla/5.0 (Maci...| Windows|\n",
            "|2023-10-01 13:49:39|8949163845658|            lowe.com|  43595|  77597|  148.15.214.37|     4.33.9.229| England|    1.68|       HTTP|Mozilla/5.0 (Linu...|     Mac|\n",
            "|2023-10-02 02:22:30|8035878244556|            webb.com| 270574|  94701|  73.78.116.223|    82.69.61.25| England|    2.19|      HTTPS|Mozilla/5.0 (Wind...| Windows|\n",
            "|2023-10-03 11:48:19|3400788003398|           watts.com| 342378| 715125|  142.37.27.131| 41.152.174.228|Scotland|    2.92|       HTTP|Opera/8.53.(Windo...|   Linux|\n",
            "|2023-10-02 12:45:41|7007039082075|   kemp-robinson.org| 613214| 239494| 80.245.249.129|198.186.190.149|Scotland|    1.78|      HTTPS|Mozilla/5.0 (X11;...|     Mac|\n",
            "|2023-10-03 08:59:16| 893913938070|           smith.com| 643362| 146752|    21.239.54.8|  136.170.182.7| England|    0.58|      HTTPS|Mozilla/5.0 (Andr...| Windows|\n",
            "|2023-10-05 21:36:53|3102780874474|   wilson-butler.com| 603759| 616834| 57.113.168.155|162.232.192.227| Ireland|    2.42|      HTTPS|Mozilla/5.0 (Andr...|     Mac|\n",
            "|2023-10-02 03:26:59|7214908687567|            hunt.com| 707145| 995270|  98.141.197.15| 107.239.246.38| England|    1.95|       HTTP|Opera/9.31.(Windo...|     iOS|\n",
            "|2023-10-04 03:09:58| 291279030607|           jones.org| 640439| 373389|       98.3.2.5|   148.44.76.68|   Wales|    2.47|       HTTP|Mozilla/5.0 (Maci...|     Mac|\n",
            "|2023-10-02 10:16:25|1042763747479|         thomas.info| 764956| 952036|187.182.236.233|   85.61.114.36| England|    1.42|       HTTP|Mozilla/5.0 (Andr...| Android|\n",
            "|2023-10-05 02:22:40|2322746906974|franklin-whittake...| 651947| 183369| 26.138.157.236| 142.176.162.10| Ireland|    1.35|      HTTPS|Opera/8.74.(Windo...|   Linux|\n",
            "|2023-10-01 18:12:17| 316289568864|         godfrey.com| 428528|  78946| 65.224.238.100|  128.90.192.17| Ireland|    1.61|       HTTP|Opera/9.16.(Windo...|   Linux|\n",
            "|2023-10-01 20:09:39|1093994305313|          wilson.com|  23710|  84942|  129.221.29.97|  18.191.29.117|   Wales|    1.25|       HTTP|Opera/9.17.(X11; ...|     iOS|\n",
            "|2023-10-03 04:45:13|7035874783254|      cole-jones.com| 447095| 390148|   94.98.62.187|172.173.228.171|   Wales|    2.43|       HTTP|Mozilla/5.0 (comp...| Android|\n",
            "|2023-10-05 18:48:05|7798663185667|            hall.net| 809701|  11489|  82.141.112.88|  110.103.99.71| England|    2.66|      HTTPS|Mozilla/5.0 (iPad...|     iOS|\n",
            "|2023-10-02 13:47:58| 150443056843|            todd.com| 204941| 114006|   161.8.210.40| 208.230.61.215|Scotland|    2.69|       HTTP|Opera/9.36.(X11; ...| Android|\n",
            "+-------------------+-------------+--------------------+-------+-------+---------------+---------------+--------+--------+-----------+--------------------+--------+\n",
            "only showing top 20 rows\n",
            "\n"
          ]
        }
      ]
    },
    {
      "cell_type": "code",
      "source": [
        "\n",
        "# Using Spark SQL on DataFrame\n",
        "\n",
        "dataFrame.createOrReplaceTempView(\"dataFrameSQL\")\n",
        "spark.sql(\"Select * From dataFrameSQL\").show()\n"
      ],
      "metadata": {
        "colab": {
          "base_uri": "https://localhost:8080/",
          "height": 227
        },
        "id": "VOo4RLVSTnj0",
        "outputId": "453a6a25-6304-4720-ff37-fb2026467381"
      },
      "execution_count": null,
      "outputs": [
        {
          "output_type": "error",
          "ename": "NameError",
          "evalue": "name 'dataFrame' is not defined",
          "traceback": [
            "\u001b[0;31m---------------------------------------------------------------------------\u001b[0m",
            "\u001b[0;31mNameError\u001b[0m                                 Traceback (most recent call last)",
            "\u001b[0;32m<ipython-input-107-87b6201c3dec>\u001b[0m in \u001b[0;36m<cell line: 3>\u001b[0;34m()\u001b[0m\n\u001b[1;32m      1\u001b[0m \u001b[0;31m# Using Spark SQL on DataFrame\u001b[0m\u001b[0;34m\u001b[0m\u001b[0;34m\u001b[0m\u001b[0m\n\u001b[1;32m      2\u001b[0m \u001b[0;34m\u001b[0m\u001b[0m\n\u001b[0;32m----> 3\u001b[0;31m \u001b[0mdataFrame\u001b[0m\u001b[0;34m.\u001b[0m\u001b[0mcreateOrReplaceTempView\u001b[0m\u001b[0;34m(\u001b[0m\u001b[0;34m\"dataFrameSQL\"\u001b[0m\u001b[0;34m)\u001b[0m\u001b[0;34m\u001b[0m\u001b[0;34m\u001b[0m\u001b[0m\n\u001b[0m\u001b[1;32m      4\u001b[0m \u001b[0mspark\u001b[0m\u001b[0;34m.\u001b[0m\u001b[0msql\u001b[0m\u001b[0;34m(\u001b[0m\u001b[0;34m\"Select * From dataFrameSQL\"\u001b[0m\u001b[0;34m)\u001b[0m\u001b[0;34m.\u001b[0m\u001b[0mshow\u001b[0m\u001b[0;34m(\u001b[0m\u001b[0;34m)\u001b[0m\u001b[0;34m\u001b[0m\u001b[0;34m\u001b[0m\u001b[0m\n",
            "\u001b[0;31mNameError\u001b[0m: name 'dataFrame' is not defined"
          ]
        }
      ]
    },
    {
      "cell_type": "code",
      "source": [
        "# This is spark sql and for spark sql we have to temprory view\n",
        "spark.sql(\"select * from dataframeSQL where country='India'\")"
      ],
      "metadata": {
        "colab": {
          "base_uri": "https://localhost:8080/"
        },
        "id": "BNlGFkwqTzsr",
        "outputId": "d8e3a79c-887a-4912-e19b-3d022445b12a"
      },
      "execution_count": null,
      "outputs": [
        {
          "output_type": "execute_result",
          "data": {
            "text/plain": [
              "DataFrame[date_time: timestamp, userid: bigint, domain: string, dlbytes: int, ulbytes: int, clientip: string, serverip: string, country: string, txn_time: double, http_method: string, user_agent: string, platform: string]"
            ]
          },
          "metadata": {},
          "execution_count": 89
        }
      ]
    },
    {
      "cell_type": "code",
      "source": [
        "df.filter( df.country == 'India').show() # no India is find in table"
      ],
      "metadata": {
        "colab": {
          "base_uri": "https://localhost:8080/"
        },
        "id": "XsIxbwG_UwvE",
        "outputId": "aa660e2f-bcef-49c5-bfe8-33414e9cfb6d"
      },
      "execution_count": null,
      "outputs": [
        {
          "output_type": "stream",
          "name": "stdout",
          "text": [
            "+---------+------+------+-------+-------+--------+--------+-------+--------+-----------+----------+--------+\n",
            "|date_time|userid|domain|dlbytes|ulbytes|clientip|serverip|country|txn_time|http_method|user_agent|platform|\n",
            "+---------+------+------+-------+-------+--------+--------+-------+--------+-----------+----------+--------+\n",
            "+---------+------+------+-------+-------+--------+--------+-------+--------+-----------+----------+--------+\n",
            "\n"
          ]
        }
      ]
    },
    {
      "cell_type": "code",
      "source": [
        "\n",
        "df.filter( df.country == 'Scotland' ).show()"
      ],
      "metadata": {
        "colab": {
          "base_uri": "https://localhost:8080/"
        },
        "id": "6Y7xN7RYX7jE",
        "outputId": "6a50e7b0-2787-4047-8ebd-c64954954ad0"
      },
      "execution_count": null,
      "outputs": [
        {
          "output_type": "stream",
          "name": "stdout",
          "text": [
            "+-------------------+-------------+--------------------+-------+-------+--------------+---------------+--------+--------+-----------+--------------------+--------+\n",
            "|          date_time|       userid|              domain|dlbytes|ulbytes|      clientip|       serverip| country|txn_time|http_method|          user_agent|platform|\n",
            "+-------------------+-------------+--------------------+-------+-------+--------------+---------------+--------+--------+-----------+--------------------+--------+\n",
            "|2023-10-02 23:25:12|1597721345356|           evans.com| 964276| 952420| 189.30.60.163|  68.171.236.18|Scotland|    1.32|       HTTP|Mozilla/5.0 (Wind...|   Linux|\n",
            "|2023-10-03 11:48:19|3400788003398|           watts.com| 342378| 715125| 142.37.27.131| 41.152.174.228|Scotland|    2.92|       HTTP|Opera/8.53.(Windo...|   Linux|\n",
            "|2023-10-02 12:45:41|7007039082075|   kemp-robinson.org| 613214| 239494|80.245.249.129|198.186.190.149|Scotland|    1.78|      HTTPS|Mozilla/5.0 (X11;...|     Mac|\n",
            "|2023-10-02 13:47:58| 150443056843|            todd.com| 204941| 114006|  161.8.210.40| 208.230.61.215|Scotland|    2.69|       HTTP|Opera/9.36.(X11; ...| Android|\n",
            "|2023-10-02 16:31:19|9005687132733|  pratt-stephens.net|  24832| 700290| 60.137.227.62|   5.166.88.107|Scotland|    1.21|      HTTPS|Mozilla/5.0 (Linu...| Android|\n",
            "|2023-10-04 23:30:26| 114665227781|johnson-robertson...| 824956|  79143|78.176.142.176| 20.206.104.212|Scotland|    1.83|       HTTP|Mozilla/5.0 (X11;...|     Mac|\n",
            "|2023-10-01 23:19:51|  76528169391|         brooks.info| 290266| 821733|  25.38.138.51| 115.22.214.193|Scotland|    0.93|       HTTP|Mozilla/5.0 (X11;...|     iOS|\n",
            "|2023-10-03 04:20:55|4249192830821|          kelly.info| 651517| 623853| 93.122.128.37|174.208.156.197|Scotland|    0.45|       HTTP|Mozilla/5.0 (Maci...|     iOS|\n",
            "|2023-10-01 18:42:03|3959148173900|     evans-parry.org| 431340| 107716|85.216.103.189|  75.148.96.142|Scotland|    2.77|       HTTP|Mozilla/5.0 (Wind...|   Linux|\n",
            "|2023-10-03 15:05:39|8175396488761|           allan.com| 217180| 347563|   96.20.61.55|  42.202.138.18|Scotland|    1.97|      HTTPS|Mozilla/5.0 (comp...| Android|\n",
            "|2023-10-05 21:23:54|8006653004613|     jones-lamb.info| 976934| 286471|89.144.167.165| 182.106.199.76|Scotland|    0.36|      HTTPS|Mozilla/5.0 (comp...| Android|\n",
            "|2023-10-01 10:00:06|6495200836137|         fleming.com| 321418| 235017| 128.8.198.117| 163.30.125.224|Scotland|    1.22|       HTTP|Opera/9.66.(Windo...|     Mac|\n",
            "|2023-10-05 09:25:02|6481433535464|     davis-singh.com| 385323| 868632| 26.173.135.30| 103.25.104.221|Scotland|    2.87|       HTTP|Mozilla/5.0 (comp...|   Linux|\n",
            "|2023-10-04 10:58:44|8199123287437|          davies.biz| 669313| 930916|  71.62.35.229|  168.142.218.1|Scotland|    0.57|       HTTP|Mozilla/5.0 (Maci...|     iOS|\n",
            "|2023-10-03 22:40:31|6535509599021|           jones.com| 969356| 788418|182.104.85.104|  94.93.143.143|Scotland|    0.02|      HTTPS|Mozilla/5.0 (Wind...| Android|\n",
            "|2023-10-03 16:06:07|3936485455498|   sykes-gibbons.com| 587433| 659780|154.64.246.143| 118.225.142.11|Scotland|    2.03|       HTTP|Opera/8.12.(Windo...| Windows|\n",
            "|2023-10-03 10:26:50|7889613044463|           smith.net| 759118| 710599|217.222.208.43|102.254.132.209|Scotland|    1.85|      HTTPS|Mozilla/5.0 (comp...|     iOS|\n",
            "|2023-10-02 02:30:59|1383526841599|         smith.co.uk| 586221|   9690|125.170.101.25|  202.34.80.229|Scotland|    0.26|       HTTP|Mozilla/5.0 (X11;...|   Linux|\n",
            "|2023-10-04 00:26:43|9722384187071|          davies.net|  77054| 388412|  95.113.37.44|   63.6.244.136|Scotland|    2.47|       HTTP|Opera/9.66.(X11; ...|     Mac|\n",
            "|2023-10-05 13:07:11|1151586316328|          newman.biz| 717862| 987620|102.181.238.50|  124.12.244.51|Scotland|    2.81|       HTTP|Mozilla/5.0 (Maci...| Windows|\n",
            "+-------------------+-------------+--------------------+-------+-------+--------------+---------------+--------+--------+-----------+--------------------+--------+\n",
            "only showing top 20 rows\n",
            "\n"
          ]
        }
      ]
    },
    {
      "cell_type": "code",
      "source": [
        "# This is filter condition in pyspark\n",
        "df.filter( df.country == 'Scotland' ) \\\n",
        ".show()"
      ],
      "metadata": {
        "colab": {
          "base_uri": "https://localhost:8080/"
        },
        "id": "p_-ksCVoYegt",
        "outputId": "0377c838-d21e-4339-946a-1bfa369f1e64"
      },
      "execution_count": null,
      "outputs": [
        {
          "output_type": "stream",
          "name": "stdout",
          "text": [
            "+-------------------+-------------+--------------------+-------+-------+--------------+---------------+--------+--------+-----------+--------------------+--------+\n",
            "|          date_time|       userid|              domain|dlbytes|ulbytes|      clientip|       serverip| country|txn_time|http_method|          user_agent|platform|\n",
            "+-------------------+-------------+--------------------+-------+-------+--------------+---------------+--------+--------+-----------+--------------------+--------+\n",
            "|2023-10-02 23:25:12|1597721345356|           evans.com| 964276| 952420| 189.30.60.163|  68.171.236.18|Scotland|    1.32|       HTTP|Mozilla/5.0 (Wind...|   Linux|\n",
            "|2023-10-03 11:48:19|3400788003398|           watts.com| 342378| 715125| 142.37.27.131| 41.152.174.228|Scotland|    2.92|       HTTP|Opera/8.53.(Windo...|   Linux|\n",
            "|2023-10-02 12:45:41|7007039082075|   kemp-robinson.org| 613214| 239494|80.245.249.129|198.186.190.149|Scotland|    1.78|      HTTPS|Mozilla/5.0 (X11;...|     Mac|\n",
            "|2023-10-02 13:47:58| 150443056843|            todd.com| 204941| 114006|  161.8.210.40| 208.230.61.215|Scotland|    2.69|       HTTP|Opera/9.36.(X11; ...| Android|\n",
            "|2023-10-02 16:31:19|9005687132733|  pratt-stephens.net|  24832| 700290| 60.137.227.62|   5.166.88.107|Scotland|    1.21|      HTTPS|Mozilla/5.0 (Linu...| Android|\n",
            "|2023-10-04 23:30:26| 114665227781|johnson-robertson...| 824956|  79143|78.176.142.176| 20.206.104.212|Scotland|    1.83|       HTTP|Mozilla/5.0 (X11;...|     Mac|\n",
            "|2023-10-01 23:19:51|  76528169391|         brooks.info| 290266| 821733|  25.38.138.51| 115.22.214.193|Scotland|    0.93|       HTTP|Mozilla/5.0 (X11;...|     iOS|\n",
            "|2023-10-03 04:20:55|4249192830821|          kelly.info| 651517| 623853| 93.122.128.37|174.208.156.197|Scotland|    0.45|       HTTP|Mozilla/5.0 (Maci...|     iOS|\n",
            "|2023-10-01 18:42:03|3959148173900|     evans-parry.org| 431340| 107716|85.216.103.189|  75.148.96.142|Scotland|    2.77|       HTTP|Mozilla/5.0 (Wind...|   Linux|\n",
            "|2023-10-03 15:05:39|8175396488761|           allan.com| 217180| 347563|   96.20.61.55|  42.202.138.18|Scotland|    1.97|      HTTPS|Mozilla/5.0 (comp...| Android|\n",
            "|2023-10-05 21:23:54|8006653004613|     jones-lamb.info| 976934| 286471|89.144.167.165| 182.106.199.76|Scotland|    0.36|      HTTPS|Mozilla/5.0 (comp...| Android|\n",
            "|2023-10-01 10:00:06|6495200836137|         fleming.com| 321418| 235017| 128.8.198.117| 163.30.125.224|Scotland|    1.22|       HTTP|Opera/9.66.(Windo...|     Mac|\n",
            "|2023-10-05 09:25:02|6481433535464|     davis-singh.com| 385323| 868632| 26.173.135.30| 103.25.104.221|Scotland|    2.87|       HTTP|Mozilla/5.0 (comp...|   Linux|\n",
            "|2023-10-04 10:58:44|8199123287437|          davies.biz| 669313| 930916|  71.62.35.229|  168.142.218.1|Scotland|    0.57|       HTTP|Mozilla/5.0 (Maci...|     iOS|\n",
            "|2023-10-03 22:40:31|6535509599021|           jones.com| 969356| 788418|182.104.85.104|  94.93.143.143|Scotland|    0.02|      HTTPS|Mozilla/5.0 (Wind...| Android|\n",
            "|2023-10-03 16:06:07|3936485455498|   sykes-gibbons.com| 587433| 659780|154.64.246.143| 118.225.142.11|Scotland|    2.03|       HTTP|Opera/8.12.(Windo...| Windows|\n",
            "|2023-10-03 10:26:50|7889613044463|           smith.net| 759118| 710599|217.222.208.43|102.254.132.209|Scotland|    1.85|      HTTPS|Mozilla/5.0 (comp...|     iOS|\n",
            "|2023-10-02 02:30:59|1383526841599|         smith.co.uk| 586221|   9690|125.170.101.25|  202.34.80.229|Scotland|    0.26|       HTTP|Mozilla/5.0 (X11;...|   Linux|\n",
            "|2023-10-04 00:26:43|9722384187071|          davies.net|  77054| 388412|  95.113.37.44|   63.6.244.136|Scotland|    2.47|       HTTP|Opera/9.66.(X11; ...|     Mac|\n",
            "|2023-10-05 13:07:11|1151586316328|          newman.biz| 717862| 987620|102.181.238.50|  124.12.244.51|Scotland|    2.81|       HTTP|Mozilla/5.0 (Maci...| Windows|\n",
            "+-------------------+-------------+--------------------+-------+-------+--------------+---------------+--------+--------+-----------+--------------------+--------+\n",
            "only showing top 20 rows\n",
            "\n"
          ]
        }
      ]
    },
    {
      "cell_type": "code",
      "source": [
        "# use pyspark to count our data\n",
        "df.filter(dataFrame.country == 'Scotland') \\\n",
        ".count()"
      ],
      "metadata": {
        "colab": {
          "base_uri": "https://localhost:8080/",
          "height": 210
        },
        "id": "nu4zu6eeYz_0",
        "outputId": "3d9aceed-0ece-4ea3-f3b2-8567fb87cd0c"
      },
      "execution_count": null,
      "outputs": [
        {
          "output_type": "error",
          "ename": "NameError",
          "evalue": "name 'dataFrame' is not defined",
          "traceback": [
            "\u001b[0;31m---------------------------------------------------------------------------\u001b[0m",
            "\u001b[0;31mNameError\u001b[0m                                 Traceback (most recent call last)",
            "\u001b[0;32m<ipython-input-116-859420113542>\u001b[0m in \u001b[0;36m<cell line: 2>\u001b[0;34m()\u001b[0m\n\u001b[1;32m      1\u001b[0m \u001b[0;31m# use pyspark to count our data\u001b[0m\u001b[0;34m\u001b[0m\u001b[0;34m\u001b[0m\u001b[0m\n\u001b[0;32m----> 2\u001b[0;31m \u001b[0mdf\u001b[0m\u001b[0;34m.\u001b[0m\u001b[0mfilter\u001b[0m\u001b[0;34m(\u001b[0m\u001b[0mdataFrame\u001b[0m\u001b[0;34m.\u001b[0m\u001b[0mcountry\u001b[0m \u001b[0;34m==\u001b[0m \u001b[0;34m'Scotland'\u001b[0m\u001b[0;34m)\u001b[0m\u001b[0;31m \u001b[0m\u001b[0;31m\\\u001b[0m\u001b[0;34m\u001b[0m\u001b[0;34m\u001b[0m\u001b[0m\n\u001b[0m\u001b[1;32m      3\u001b[0m \u001b[0;34m.\u001b[0m\u001b[0mcount\u001b[0m\u001b[0;34m(\u001b[0m\u001b[0;34m)\u001b[0m\u001b[0;34m\u001b[0m\u001b[0;34m\u001b[0m\u001b[0m\n",
            "\u001b[0;31mNameError\u001b[0m: name 'dataFrame' is not defined"
          ]
        }
      ]
    },
    {
      "cell_type": "code",
      "source": [
        "# using sql for count\n",
        "spark.sql(\"Select Count(*) From dataFrameSQL Where country = 'Scotland'\").show()"
      ],
      "metadata": {
        "colab": {
          "base_uri": "https://localhost:8080/",
          "height": 529
        },
        "id": "KppptmNRbpXw",
        "outputId": "74044333-6f62-4370-dc74-e59513e14caf"
      },
      "execution_count": null,
      "outputs": [
        {
          "output_type": "error",
          "ename": "AnalysisException",
          "evalue": "[TABLE_OR_VIEW_NOT_FOUND] The table or view `dataFrameSQL` cannot be found. Verify the spelling and correctness of the schema and catalog.\nIf you did not qualify the name with a schema, verify the current_schema() output, or qualify the name with the correct schema and catalog.\nTo tolerate the error on drop use DROP VIEW IF EXISTS or DROP TABLE IF EXISTS.; line 1 pos 21;\n'Aggregate [unresolvedalias(count(1), None)]\n+- 'Filter ('country = Scotland)\n   +- 'UnresolvedRelation [dataFrameSQL], [], false\n",
          "traceback": [
            "\u001b[0;31m---------------------------------------------------------------------------\u001b[0m",
            "\u001b[0;31mAnalysisException\u001b[0m                         Traceback (most recent call last)",
            "\u001b[0;32m<ipython-input-117-519633ca3e91>\u001b[0m in \u001b[0;36m<cell line: 2>\u001b[0;34m()\u001b[0m\n\u001b[1;32m      1\u001b[0m \u001b[0;31m# using sql for count\u001b[0m\u001b[0;34m\u001b[0m\u001b[0;34m\u001b[0m\u001b[0m\n\u001b[0;32m----> 2\u001b[0;31m \u001b[0mspark\u001b[0m\u001b[0;34m.\u001b[0m\u001b[0msql\u001b[0m\u001b[0;34m(\u001b[0m\u001b[0;34m\"Select Count(*) From dataFrameSQL Where country = 'Scotland'\"\u001b[0m\u001b[0;34m)\u001b[0m\u001b[0;34m.\u001b[0m\u001b[0mshow\u001b[0m\u001b[0;34m(\u001b[0m\u001b[0;34m)\u001b[0m\u001b[0;34m\u001b[0m\u001b[0;34m\u001b[0m\u001b[0m\n\u001b[0m",
            "\u001b[0;32m/usr/local/lib/python3.10/dist-packages/pyspark/sql/session.py\u001b[0m in \u001b[0;36msql\u001b[0;34m(self, sqlQuery, args, **kwargs)\u001b[0m\n\u001b[1;32m   1629\u001b[0m                     \u001b[0;34m[\u001b[0m\u001b[0m_to_java_column\u001b[0m\u001b[0;34m(\u001b[0m\u001b[0mlit\u001b[0m\u001b[0;34m(\u001b[0m\u001b[0mv\u001b[0m\u001b[0;34m)\u001b[0m\u001b[0;34m)\u001b[0m \u001b[0;32mfor\u001b[0m \u001b[0mv\u001b[0m \u001b[0;32min\u001b[0m \u001b[0;34m(\u001b[0m\u001b[0margs\u001b[0m \u001b[0;32mor\u001b[0m \u001b[0;34m[\u001b[0m\u001b[0;34m]\u001b[0m\u001b[0;34m)\u001b[0m\u001b[0;34m]\u001b[0m\u001b[0;34m\u001b[0m\u001b[0;34m\u001b[0m\u001b[0m\n\u001b[1;32m   1630\u001b[0m                 )\n\u001b[0;32m-> 1631\u001b[0;31m             \u001b[0;32mreturn\u001b[0m \u001b[0mDataFrame\u001b[0m\u001b[0;34m(\u001b[0m\u001b[0mself\u001b[0m\u001b[0;34m.\u001b[0m\u001b[0m_jsparkSession\u001b[0m\u001b[0;34m.\u001b[0m\u001b[0msql\u001b[0m\u001b[0;34m(\u001b[0m\u001b[0msqlQuery\u001b[0m\u001b[0;34m,\u001b[0m \u001b[0mlitArgs\u001b[0m\u001b[0;34m)\u001b[0m\u001b[0;34m,\u001b[0m \u001b[0mself\u001b[0m\u001b[0;34m)\u001b[0m\u001b[0;34m\u001b[0m\u001b[0;34m\u001b[0m\u001b[0m\n\u001b[0m\u001b[1;32m   1632\u001b[0m         \u001b[0;32mfinally\u001b[0m\u001b[0;34m:\u001b[0m\u001b[0;34m\u001b[0m\u001b[0;34m\u001b[0m\u001b[0m\n\u001b[1;32m   1633\u001b[0m             \u001b[0;32mif\u001b[0m \u001b[0mlen\u001b[0m\u001b[0;34m(\u001b[0m\u001b[0mkwargs\u001b[0m\u001b[0;34m)\u001b[0m \u001b[0;34m>\u001b[0m \u001b[0;36m0\u001b[0m\u001b[0;34m:\u001b[0m\u001b[0;34m\u001b[0m\u001b[0;34m\u001b[0m\u001b[0m\n",
            "\u001b[0;32m/usr/local/lib/python3.10/dist-packages/py4j/java_gateway.py\u001b[0m in \u001b[0;36m__call__\u001b[0;34m(self, *args)\u001b[0m\n\u001b[1;32m   1320\u001b[0m \u001b[0;34m\u001b[0m\u001b[0m\n\u001b[1;32m   1321\u001b[0m         \u001b[0manswer\u001b[0m \u001b[0;34m=\u001b[0m \u001b[0mself\u001b[0m\u001b[0;34m.\u001b[0m\u001b[0mgateway_client\u001b[0m\u001b[0;34m.\u001b[0m\u001b[0msend_command\u001b[0m\u001b[0;34m(\u001b[0m\u001b[0mcommand\u001b[0m\u001b[0;34m)\u001b[0m\u001b[0;34m\u001b[0m\u001b[0;34m\u001b[0m\u001b[0m\n\u001b[0;32m-> 1322\u001b[0;31m         return_value = get_return_value(\n\u001b[0m\u001b[1;32m   1323\u001b[0m             answer, self.gateway_client, self.target_id, self.name)\n\u001b[1;32m   1324\u001b[0m \u001b[0;34m\u001b[0m\u001b[0m\n",
            "\u001b[0;32m/usr/local/lib/python3.10/dist-packages/pyspark/errors/exceptions/captured.py\u001b[0m in \u001b[0;36mdeco\u001b[0;34m(*a, **kw)\u001b[0m\n\u001b[1;32m    183\u001b[0m                 \u001b[0;31m# Hide where the exception came from that shows a non-Pythonic\u001b[0m\u001b[0;34m\u001b[0m\u001b[0;34m\u001b[0m\u001b[0m\n\u001b[1;32m    184\u001b[0m                 \u001b[0;31m# JVM exception message.\u001b[0m\u001b[0;34m\u001b[0m\u001b[0;34m\u001b[0m\u001b[0m\n\u001b[0;32m--> 185\u001b[0;31m                 \u001b[0;32mraise\u001b[0m \u001b[0mconverted\u001b[0m \u001b[0;32mfrom\u001b[0m \u001b[0;32mNone\u001b[0m\u001b[0;34m\u001b[0m\u001b[0;34m\u001b[0m\u001b[0m\n\u001b[0m\u001b[1;32m    186\u001b[0m             \u001b[0;32melse\u001b[0m\u001b[0;34m:\u001b[0m\u001b[0;34m\u001b[0m\u001b[0;34m\u001b[0m\u001b[0m\n\u001b[1;32m    187\u001b[0m                 \u001b[0;32mraise\u001b[0m\u001b[0;34m\u001b[0m\u001b[0;34m\u001b[0m\u001b[0m\n",
            "\u001b[0;31mAnalysisException\u001b[0m: [TABLE_OR_VIEW_NOT_FOUND] The table or view `dataFrameSQL` cannot be found. Verify the spelling and correctness of the schema and catalog.\nIf you did not qualify the name with a schema, verify the current_schema() output, or qualify the name with the correct schema and catalog.\nTo tolerate the error on drop use DROP VIEW IF EXISTS or DROP TABLE IF EXISTS.; line 1 pos 21;\n'Aggregate [unresolvedalias(count(1), None)]\n+- 'Filter ('country = Scotland)\n   +- 'UnresolvedRelation [dataFrameSQL], [], false\n"
          ]
        }
      ]
    },
    {
      "cell_type": "code",
      "source": [
        "# using sql for count\n",
        "spark.sql(\"Select country,Count(*) As RowCount From dataFrameSQL Where dlbytes > 500000 Group By country\").show()"
      ],
      "metadata": {
        "colab": {
          "base_uri": "https://localhost:8080/"
        },
        "id": "LYylnYctbztH",
        "outputId": "d34ac2a4-f668-40f8-cb20-f337847c4031"
      },
      "execution_count": null,
      "outputs": [
        {
          "output_type": "stream",
          "name": "stdout",
          "text": [
            "+--------+--------+\n",
            "| country|RowCount|\n",
            "+--------+--------+\n",
            "|   Wales|    8180|\n",
            "| Ireland|    8143|\n",
            "| England|    8279|\n",
            "|Scotland|    8203|\n",
            "+--------+--------+\n",
            "\n"
          ]
        }
      ]
    },
    {
      "cell_type": "code",
      "source": [
        "spark.sql(\"Select country, Count(*) As RowCount From dataFrameSQL Where dlbytes > 500000 Group By country\").show()"
      ],
      "metadata": {
        "colab": {
          "base_uri": "https://localhost:8080/"
        },
        "id": "hw7jS4Z5c8y-",
        "outputId": "da14d7b1-8316-4d20-ddf2-1c5b72e8347a"
      },
      "execution_count": null,
      "outputs": [
        {
          "output_type": "stream",
          "name": "stdout",
          "text": [
            "+--------+--------+\n",
            "| country|RowCount|\n",
            "+--------+--------+\n",
            "|   Wales|    8180|\n",
            "| Ireland|    8143|\n",
            "| England|    8279|\n",
            "|Scotland|    8203|\n",
            "+--------+--------+\n",
            "\n"
          ]
        }
      ]
    },
    {
      "cell_type": "code",
      "source": [
        "grouped_df_1=df.groupBy('country').agg({\n",
        "    'dlbytes': 'sum',\n",
        "    'ulbytes': 'avg'\n",
        "    }\n",
        ")\n",
        "\n",
        "grouped_df_1.withColumnRenamed('avg(ulbytes)', 'AvgUL').show()"
      ],
      "metadata": {
        "colab": {
          "base_uri": "https://localhost:8080/"
        },
        "id": "8MyVrMu9g8_P",
        "outputId": "77669c2d-879a-43a7-ae43-2773a6ef322b"
      },
      "execution_count": null,
      "outputs": [
        {
          "output_type": "stream",
          "name": "stdout",
          "text": [
            "+--------+------------------+------------+\n",
            "| country|             AvgUL|sum(dlbytes)|\n",
            "+--------+------------------+------------+\n",
            "|   Wales| 501170.9036600422| 12506206681|\n",
            "| Ireland|498588.33693996957| 12496130770|\n",
            "| England| 500240.4421728041| 12629527260|\n",
            "|Scotland|499690.46323203866| 12367493862|\n",
            "+--------+------------------+------------+\n",
            "\n"
          ]
        }
      ]
    },
    {
      "cell_type": "code",
      "source": [
        "# Above SQL Query using PySpark\n",
        "\n",
        "dataFrame.filter( dataFrame.dlbytes > 500000 ).groupBy('country').count().withColumnRenamed('count', 'RowCount').show()"
      ],
      "metadata": {
        "colab": {
          "base_uri": "https://localhost:8080/"
        },
        "id": "YfDPOgvTdMM0",
        "outputId": "311f37e2-98a1-4e75-c7b0-abfca25bb205"
      },
      "execution_count": null,
      "outputs": [
        {
          "output_type": "stream",
          "name": "stdout",
          "text": [
            "+--------+--------+\n",
            "| country|RowCount|\n",
            "+--------+--------+\n",
            "|   Wales|    8180|\n",
            "| Ireland|    8143|\n",
            "| England|    8279|\n",
            "|Scotland|    8203|\n",
            "+--------+--------+\n",
            "\n"
          ]
        }
      ]
    },
    {
      "cell_type": "code",
      "source": [
        "# donot use show just after group by\n",
        "dataFrame.filter( dataFrame.dlbytes > 500000 ).groupBy('country').count().show()"
      ],
      "metadata": {
        "colab": {
          "base_uri": "https://localhost:8080/"
        },
        "id": "nGDse6p3fbE-",
        "outputId": "e9add1dc-975c-46fd-b655-8033b0859b84"
      },
      "execution_count": null,
      "outputs": [
        {
          "output_type": "stream",
          "name": "stdout",
          "text": [
            "+--------+-----+\n",
            "| country|count|\n",
            "+--------+-----+\n",
            "|   Wales| 8180|\n",
            "| Ireland| 8143|\n",
            "| England| 8279|\n",
            "|Scotland| 8203|\n",
            "+--------+-----+\n",
            "\n"
          ]
        }
      ]
    },
    {
      "cell_type": "code",
      "source": [
        "from pyspark.sql.functions import *\n",
        "\n",
        "df.groupBy('country').agg(\n",
        "    sum('dlbytes').alias('DL'),\n",
        "    avg('ulbytes').alias('UL'),\n",
        "    count('*').alias('row count')\n",
        ").show()"
      ],
      "metadata": {
        "colab": {
          "base_uri": "https://localhost:8080/"
        },
        "id": "QWq4YIe1j1ZQ",
        "outputId": "b29773b0-291a-4406-c88d-7b2c43ebdeb3"
      },
      "execution_count": null,
      "outputs": [
        {
          "output_type": "stream",
          "name": "stdout",
          "text": [
            "+--------+-----------+------------------+---------+\n",
            "| country|         DL|                UL|row count|\n",
            "+--------+-----------+------------------+---------+\n",
            "|   Wales|12506206681| 501170.9036600422|    25109|\n",
            "| Ireland|12496130770|498588.33693996957|    24954|\n",
            "| England|12629527260| 500240.4421728041|    25092|\n",
            "|Scotland|12367493862|499690.46323203866|    24845|\n",
            "+--------+-----------+------------------+---------+\n",
            "\n"
          ]
        }
      ]
    },
    {
      "cell_type": "code",
      "source": [
        "grouped_df_1=df.groupBy('country').agg({\n",
        "    'dlbytes': 'sum',\n",
        "    'ulbytes': 'avg'\n",
        "    }\n",
        ").show()"
      ],
      "metadata": {
        "colab": {
          "base_uri": "https://localhost:8080/"
        },
        "id": "OYDgTAh6jFEY",
        "outputId": "0d636145-d2e5-4eea-cc10-db652df7102e"
      },
      "execution_count": null,
      "outputs": [
        {
          "output_type": "stream",
          "name": "stdout",
          "text": [
            "+--------+------------------+------------+\n",
            "| country|      avg(ulbytes)|sum(dlbytes)|\n",
            "+--------+------------------+------------+\n",
            "|   Wales| 501170.9036600422| 12506206681|\n",
            "| Ireland|498588.33693996957| 12496130770|\n",
            "| England| 500240.4421728041| 12629527260|\n",
            "|Scotland|499690.46323203866| 12367493862|\n",
            "+--------+------------------+------------+\n",
            "\n"
          ]
        }
      ]
    },
    {
      "cell_type": "code",
      "source": [
        "# import sql library\n",
        "from pyspark.sql.functions import *\n",
        "df.groupBy('country').agg(sum('dlbytes'),avg('ulbytes'),count('*')).show()"
      ],
      "metadata": {
        "colab": {
          "base_uri": "https://localhost:8080/",
          "height": 227
        },
        "id": "JgubMvA4kaWq",
        "outputId": "5bd330b3-4d62-444a-ac92-bc15c0e3779a"
      },
      "execution_count": null,
      "outputs": [
        {
          "output_type": "error",
          "ename": "AttributeError",
          "evalue": "'NoneType' object has no attribute 'groupBy'",
          "traceback": [
            "\u001b[0;31m---------------------------------------------------------------------------\u001b[0m",
            "\u001b[0;31mAttributeError\u001b[0m                            Traceback (most recent call last)",
            "\u001b[0;32m<ipython-input-57-a4d3fb6b7c54>\u001b[0m in \u001b[0;36m<cell line: 3>\u001b[0;34m()\u001b[0m\n\u001b[1;32m      1\u001b[0m \u001b[0;31m# import sql library\u001b[0m\u001b[0;34m\u001b[0m\u001b[0;34m\u001b[0m\u001b[0m\n\u001b[1;32m      2\u001b[0m \u001b[0;32mfrom\u001b[0m \u001b[0mpyspark\u001b[0m\u001b[0;34m.\u001b[0m\u001b[0msql\u001b[0m\u001b[0;34m.\u001b[0m\u001b[0mfunctions\u001b[0m \u001b[0;32mimport\u001b[0m \u001b[0;34m*\u001b[0m\u001b[0;34m\u001b[0m\u001b[0;34m\u001b[0m\u001b[0m\n\u001b[0;32m----> 3\u001b[0;31m \u001b[0mdf\u001b[0m\u001b[0;34m.\u001b[0m\u001b[0mgroupBy\u001b[0m\u001b[0;34m(\u001b[0m\u001b[0;34m'country'\u001b[0m\u001b[0;34m)\u001b[0m\u001b[0;34m.\u001b[0m\u001b[0magg\u001b[0m\u001b[0;34m(\u001b[0m\u001b[0msum\u001b[0m\u001b[0;34m(\u001b[0m\u001b[0;34m'dlbytes'\u001b[0m\u001b[0;34m)\u001b[0m\u001b[0;34m,\u001b[0m\u001b[0mavg\u001b[0m\u001b[0;34m(\u001b[0m\u001b[0;34m'ulbytes'\u001b[0m\u001b[0;34m)\u001b[0m\u001b[0;34m,\u001b[0m\u001b[0mcount\u001b[0m\u001b[0;34m(\u001b[0m\u001b[0;34m'*'\u001b[0m\u001b[0;34m)\u001b[0m\u001b[0;34m)\u001b[0m\u001b[0;34m.\u001b[0m\u001b[0mshow\u001b[0m\u001b[0;34m(\u001b[0m\u001b[0;34m)\u001b[0m\u001b[0;34m\u001b[0m\u001b[0;34m\u001b[0m\u001b[0m\n\u001b[0m",
            "\u001b[0;31mAttributeError\u001b[0m: 'NoneType' object has no attribute 'groupBy'"
          ]
        }
      ]
    },
    {
      "cell_type": "code",
      "source": [
        "# Import SQL Library\n",
        "#from pyspark.sql import functions as Fncs\n",
        "from pyspark.sql.functions import *\n",
        "\n",
        "df.groupBy('country').agg(sum('dlbytes').alias('DL'),avg('ulbytes').alias('UL'),count('*').alias('Count')).show()\n",
        "\n"
      ],
      "metadata": {
        "id": "hR8HaAnOnpYp",
        "colab": {
          "base_uri": "https://localhost:8080/",
          "height": 265
        },
        "outputId": "f16e41ba-028d-4fdd-fd3f-8b0b5ccec3d3"
      },
      "execution_count": null,
      "outputs": [
        {
          "output_type": "error",
          "ename": "AttributeError",
          "evalue": "'NoneType' object has no attribute 'groupBy'",
          "traceback": [
            "\u001b[0;31m---------------------------------------------------------------------------\u001b[0m",
            "\u001b[0;31mAttributeError\u001b[0m                            Traceback (most recent call last)",
            "\u001b[0;32m<ipython-input-56-b77fa2728a15>\u001b[0m in \u001b[0;36m<cell line: 5>\u001b[0;34m()\u001b[0m\n\u001b[1;32m      3\u001b[0m \u001b[0;32mfrom\u001b[0m \u001b[0mpyspark\u001b[0m\u001b[0;34m.\u001b[0m\u001b[0msql\u001b[0m\u001b[0;34m.\u001b[0m\u001b[0mfunctions\u001b[0m \u001b[0;32mimport\u001b[0m \u001b[0;34m*\u001b[0m\u001b[0;34m\u001b[0m\u001b[0;34m\u001b[0m\u001b[0m\n\u001b[1;32m      4\u001b[0m \u001b[0;34m\u001b[0m\u001b[0m\n\u001b[0;32m----> 5\u001b[0;31m \u001b[0mdf\u001b[0m\u001b[0;34m.\u001b[0m\u001b[0mgroupBy\u001b[0m\u001b[0;34m(\u001b[0m\u001b[0;34m'country'\u001b[0m\u001b[0;34m)\u001b[0m\u001b[0;34m.\u001b[0m\u001b[0magg\u001b[0m\u001b[0;34m(\u001b[0m\u001b[0msum\u001b[0m\u001b[0;34m(\u001b[0m\u001b[0;34m'dlbytes'\u001b[0m\u001b[0;34m)\u001b[0m\u001b[0;34m.\u001b[0m\u001b[0malias\u001b[0m\u001b[0;34m(\u001b[0m\u001b[0;34m'DL'\u001b[0m\u001b[0;34m)\u001b[0m\u001b[0;34m,\u001b[0m\u001b[0mavg\u001b[0m\u001b[0;34m(\u001b[0m\u001b[0;34m'ulbytes'\u001b[0m\u001b[0;34m)\u001b[0m\u001b[0;34m.\u001b[0m\u001b[0malias\u001b[0m\u001b[0;34m(\u001b[0m\u001b[0;34m'UL'\u001b[0m\u001b[0;34m)\u001b[0m\u001b[0;34m,\u001b[0m\u001b[0mcount\u001b[0m\u001b[0;34m(\u001b[0m\u001b[0;34m'*'\u001b[0m\u001b[0;34m)\u001b[0m\u001b[0;34m.\u001b[0m\u001b[0malias\u001b[0m\u001b[0;34m(\u001b[0m\u001b[0;34m'Count'\u001b[0m\u001b[0;34m)\u001b[0m\u001b[0;34m)\u001b[0m\u001b[0;34m.\u001b[0m\u001b[0mshow\u001b[0m\u001b[0;34m(\u001b[0m\u001b[0;34m)\u001b[0m\u001b[0;34m\u001b[0m\u001b[0;34m\u001b[0m\u001b[0m\n\u001b[0m\u001b[1;32m      6\u001b[0m \u001b[0;34m\u001b[0m\u001b[0m\n",
            "\u001b[0;31mAttributeError\u001b[0m: 'NoneType' object has no attribute 'groupBy'"
          ]
        }
      ]
    },
    {
      "cell_type": "markdown",
      "source": [],
      "metadata": {
        "id": "6FqOcgMOZVro"
      }
    },
    {
      "cell_type": "code",
      "source": [
        "df.withColumn('totalbytes',col('dlbytes') + col('ulbytes')).show(5)\n"
      ],
      "metadata": {
        "colab": {
          "base_uri": "https://localhost:8080/"
        },
        "id": "HP2RViYPXL2Z",
        "outputId": "1cfea8cf-06a7-4b87-ef22-d4c47c2a1509"
      },
      "execution_count": null,
      "outputs": [
        {
          "output_type": "stream",
          "name": "stdout",
          "text": [
            "+-------------------+-------------+--------------------+-------+-------+---------------+-------------+--------+--------+-----------+--------------------+--------+----------+\n",
            "|          date_time|       userid|              domain|dlbytes|ulbytes|       clientip|     serverip| country|txn_time|http_method|          user_agent|platform|totalbytes|\n",
            "+-------------------+-------------+--------------------+-------+-------+---------------+-------------+--------+--------+-----------+--------------------+--------+----------+\n",
            "|2023-10-04 11:37:11|7773153683656|    ryan-wells.co.uk| 872807| 741526|142.132.219.110|62.42.184.180| England|    2.33|      HTTPS|Mozilla/5.0 (Wind...| Android|   1614333|\n",
            "|2023-10-04 12:17:07|1886351675683|         hopkins.org|  50898| 529504|  184.205.48.78|152.123.41.39|   Wales|     1.2|       HTTP|Mozilla/5.0 (Wind...| Android|    580402|\n",
            "|2023-10-02 23:25:12|1597721345356|           evans.com| 964276| 952420|  189.30.60.163|68.171.236.18|Scotland|    1.32|       HTTP|Mozilla/5.0 (Wind...|   Linux|   1916696|\n",
            "|2023-10-03 09:43:11|9766845800247|           kelly.com| 212529| 811887|   13.144.79.35|63.141.80.109| England|    2.58|      HTTPS|Opera/8.54.(X11; ...| Android|   1024416|\n",
            "|2023-10-01 08:16:46|1546762097287|richardson-walker...| 553626| 901428| 143.74.163.248|26.253.17.223|   Wales|    1.53|       HTTP|Mozilla/5.0 (Maci...| Windows|   1455054|\n",
            "+-------------------+-------------+--------------------+-------+-------+---------------+-------------+--------+--------+-----------+--------------------+--------+----------+\n",
            "only showing top 5 rows\n",
            "\n"
          ]
        }
      ]
    },
    {
      "cell_type": "code",
      "source": [
        "df.withColumn('Year', year('date_time')).show()"
      ],
      "metadata": {
        "colab": {
          "base_uri": "https://localhost:8080/",
          "height": 175
        },
        "id": "7_I2zxnaZmRU",
        "outputId": "ac760169-c6b0-4578-b19c-62634baf6e4a"
      },
      "execution_count": null,
      "outputs": [
        {
          "output_type": "error",
          "ename": "NameError",
          "evalue": "name 'year' is not defined",
          "traceback": [
            "\u001b[0;31m---------------------------------------------------------------------------\u001b[0m",
            "\u001b[0;31mNameError\u001b[0m                                 Traceback (most recent call last)",
            "\u001b[0;32m<ipython-input-51-f9724c218abf>\u001b[0m in \u001b[0;36m<cell line: 1>\u001b[0;34m()\u001b[0m\n\u001b[0;32m----> 1\u001b[0;31m \u001b[0mdf\u001b[0m\u001b[0;34m.\u001b[0m\u001b[0mwithColumn\u001b[0m\u001b[0;34m(\u001b[0m\u001b[0;34m'Year'\u001b[0m\u001b[0;34m,\u001b[0m \u001b[0myear\u001b[0m\u001b[0;34m(\u001b[0m\u001b[0;34m'date_time'\u001b[0m\u001b[0;34m)\u001b[0m\u001b[0;34m)\u001b[0m\u001b[0;34m.\u001b[0m\u001b[0mshow\u001b[0m\u001b[0;34m(\u001b[0m\u001b[0;34m)\u001b[0m\u001b[0;34m\u001b[0m\u001b[0;34m\u001b[0m\u001b[0m\n\u001b[0m",
            "\u001b[0;31mNameError\u001b[0m: name 'year' is not defined"
          ]
        }
      ]
    },
    {
      "cell_type": "code",
      "source": [
        "df.withColumn('txtime_milliseconds',col('txn_time') * 1000).show(5)"
      ],
      "metadata": {
        "colab": {
          "base_uri": "https://localhost:8080/"
        },
        "id": "pmHZvn6UacUI",
        "outputId": "7195d448-cd91-493c-9c6d-064d861b97f6"
      },
      "execution_count": null,
      "outputs": [
        {
          "output_type": "stream",
          "name": "stdout",
          "text": [
            "+-------------------+-------------+--------------------+-------+-------+---------------+-------------+--------+--------+-----------+--------------------+--------+-------------------+\n",
            "|          date_time|       userid|              domain|dlbytes|ulbytes|       clientip|     serverip| country|txn_time|http_method|          user_agent|platform|txtime_milliseconds|\n",
            "+-------------------+-------------+--------------------+-------+-------+---------------+-------------+--------+--------+-----------+--------------------+--------+-------------------+\n",
            "|2023-10-04 11:37:11|7773153683656|    ryan-wells.co.uk| 872807| 741526|142.132.219.110|62.42.184.180| England|    2.33|      HTTPS|Mozilla/5.0 (Wind...| Android|             2330.0|\n",
            "|2023-10-04 12:17:07|1886351675683|         hopkins.org|  50898| 529504|  184.205.48.78|152.123.41.39|   Wales|     1.2|       HTTP|Mozilla/5.0 (Wind...| Android|             1200.0|\n",
            "|2023-10-02 23:25:12|1597721345356|           evans.com| 964276| 952420|  189.30.60.163|68.171.236.18|Scotland|    1.32|       HTTP|Mozilla/5.0 (Wind...|   Linux|             1320.0|\n",
            "|2023-10-03 09:43:11|9766845800247|           kelly.com| 212529| 811887|   13.144.79.35|63.141.80.109| England|    2.58|      HTTPS|Opera/8.54.(X11; ...| Android|             2580.0|\n",
            "|2023-10-01 08:16:46|1546762097287|richardson-walker...| 553626| 901428| 143.74.163.248|26.253.17.223|   Wales|    1.53|       HTTP|Mozilla/5.0 (Maci...| Windows|             1530.0|\n",
            "+-------------------+-------------+--------------------+-------+-------+---------------+-------------+--------+--------+-----------+--------------------+--------+-------------------+\n",
            "only showing top 5 rows\n",
            "\n"
          ]
        }
      ]
    },
    {
      "cell_type": "code",
      "source": [
        "#\n",
        "# Showing Calculated Columns with the Existing Columns of Dataframe\n",
        "df\\\n",
        "    .withColumn('timeInMilliSeconds', col('txn_time') * 1000)\\\n",
        "    .withColumn('device_type', \\\n",
        "                when ( \\\n",
        "                      lower(col('platform')).isin('ios', 'android'), \\\n",
        "                       'Mobile') \\\n",
        "\n",
        "                .otherwise('Desktop') \\\n",
        "\n",
        "                 ) \\\n",
        "                 .select('country', 'dlbytes', 'domain', 'timeInMilliSeconds', 'device_type')\\\n",
        "                 .show()"
      ],
      "metadata": {
        "colab": {
          "base_uri": "https://localhost:8080/",
          "height": 245
        },
        "id": "5-HDDL7Ba06z",
        "outputId": "e1a1225e-9fca-484d-ca48-34e7ba33292a"
      },
      "execution_count": null,
      "outputs": [
        {
          "output_type": "error",
          "ename": "NameError",
          "evalue": "name 'col' is not defined",
          "traceback": [
            "\u001b[0;31m---------------------------------------------------------------------------\u001b[0m",
            "\u001b[0;31mNameError\u001b[0m                                 Traceback (most recent call last)",
            "\u001b[0;32m<ipython-input-30-15180f3ef2be>\u001b[0m in \u001b[0;36m<cell line: 3>\u001b[0;34m()\u001b[0m\n\u001b[1;32m      2\u001b[0m \u001b[0;31m# Showing Calculated Columns with the Existing Columns of Dataframe\u001b[0m\u001b[0;34m\u001b[0m\u001b[0;34m\u001b[0m\u001b[0m\n\u001b[1;32m      3\u001b[0m \u001b[0mdf\u001b[0m\u001b[0;31m\\\u001b[0m\u001b[0;34m\u001b[0m\u001b[0;34m\u001b[0m\u001b[0m\n\u001b[0;32m----> 4\u001b[0;31m     \u001b[0;34m.\u001b[0m\u001b[0mwithColumn\u001b[0m\u001b[0;34m(\u001b[0m\u001b[0;34m'timeInMilliSeconds'\u001b[0m\u001b[0;34m,\u001b[0m \u001b[0mcol\u001b[0m\u001b[0;34m(\u001b[0m\u001b[0;34m'txn_time'\u001b[0m\u001b[0;34m)\u001b[0m \u001b[0;34m*\u001b[0m \u001b[0;36m1000\u001b[0m\u001b[0;34m)\u001b[0m\u001b[0;31m\\\u001b[0m\u001b[0;34m\u001b[0m\u001b[0;34m\u001b[0m\u001b[0m\n\u001b[0m\u001b[1;32m      5\u001b[0m     .withColumn('device_type', \\\n\u001b[1;32m      6\u001b[0m                 when ( \\\n",
            "\u001b[0;31mNameError\u001b[0m: name 'col' is not defined"
          ]
        }
      ]
    },
    {
      "cell_type": "code",
      "source": [
        "# Showing Calculated Columns with the Existing Columns of Dataframe\n",
        "df.withColumn('device_type', \\\n",
        "                     when ( \\\n",
        "                           lower(col('platform')).isin('ios', 'android'), \\\n",
        "                            'Mobile') \\\n",
        "                     .otherwise('Desktop') \\\n",
        ").show(2)"
      ],
      "metadata": {
        "colab": {
          "base_uri": "https://localhost:8080/",
          "height": 262
        },
        "id": "EqzXEPEEb5s2",
        "outputId": "009e8ccc-fadf-40a0-dfb3-8071e4decbc7"
      },
      "execution_count": null,
      "outputs": [
        {
          "output_type": "error",
          "ename": "NameError",
          "evalue": "name 'when' is not defined",
          "traceback": [
            "\u001b[0;31m---------------------------------------------------------------------------\u001b[0m",
            "\u001b[0;31mNameError\u001b[0m                                 Traceback (most recent call last)",
            "\u001b[0;32m<ipython-input-29-84ccca5aec7b>\u001b[0m in \u001b[0;36m<cell line: 2>\u001b[0;34m()\u001b[0m\n\u001b[1;32m      1\u001b[0m \u001b[0;31m# Showing Calculated Columns with the Existing Columns of Dataframe\u001b[0m\u001b[0;34m\u001b[0m\u001b[0;34m\u001b[0m\u001b[0m\n\u001b[1;32m      2\u001b[0m df.withColumn('device_type', \\\n\u001b[0;32m----> 3\u001b[0;31m                      when ( \\\n\u001b[0m\u001b[1;32m      4\u001b[0m                            \u001b[0mlower\u001b[0m\u001b[0;34m(\u001b[0m\u001b[0mcol\u001b[0m\u001b[0;34m(\u001b[0m\u001b[0;34m'platform'\u001b[0m\u001b[0;34m)\u001b[0m\u001b[0;34m)\u001b[0m\u001b[0;34m.\u001b[0m\u001b[0misin\u001b[0m\u001b[0;34m(\u001b[0m\u001b[0;34m'ios'\u001b[0m\u001b[0;34m,\u001b[0m \u001b[0;34m'android'\u001b[0m\u001b[0;34m)\u001b[0m\u001b[0;34m,\u001b[0m\u001b[0;31m \u001b[0m\u001b[0;31m\\\u001b[0m\u001b[0;34m\u001b[0m\u001b[0;34m\u001b[0m\u001b[0m\n\u001b[1;32m      5\u001b[0m                             'Mobile') \\\n",
            "\u001b[0;31mNameError\u001b[0m: name 'when' is not defined"
          ]
        }
      ]
    },
    {
      "cell_type": "code",
      "source": [
        "df=df.dropDuplicates().show(5)"
      ],
      "metadata": {
        "colab": {
          "base_uri": "https://localhost:8080/"
        },
        "id": "KUmTL38oscSe",
        "outputId": "ae0fc558-281a-400a-9bc6-026462dda8ec"
      },
      "execution_count": null,
      "outputs": [
        {
          "output_type": "stream",
          "name": "stdout",
          "text": [
            "+-------------------+-------------+------------------+-------+-------+---------------+--------------+--------+--------+-----------+--------------------+--------+\n",
            "|          date_time|       userid|            domain|dlbytes|ulbytes|       clientip|      serverip| country|txn_time|http_method|          user_agent|platform|\n",
            "+-------------------+-------------+------------------+-------+-------+---------------+--------------+--------+--------+-----------+--------------------+--------+\n",
            "|2023-10-05 20:35:22|7232270657348|        sims.co.uk| 489531|  15794|143.194.162.242|23.108.119.179| England|    2.19|       HTTP|Mozilla/5.0 (comp...| Windows|\n",
            "|2023-10-04 19:09:15|8852584472270|          cook.com| 232954| 491770|    6.76.17.236|   16.207.40.3|Scotland|    1.23|       HTTP|Opera/8.64.(X11; ...|   Linux|\n",
            "|2023-10-03 03:58:38| 316312399362|        rogers.com| 508745| 206631|   23.169.213.8|131.98.237.237|Scotland|    0.81|       HTTP|Mozilla/5.0 (Wind...| Android|\n",
            "|2023-10-05 02:06:43|8414495622641|morgan-porter.info| 606296| 618269| 165.189.148.81|  55.64.31.250|Scotland|    0.32|      HTTPS|Opera/8.98.(X11; ...| Android|\n",
            "|2023-10-04 04:28:04|5570891946460|         smith.com| 224856| 628958|    35.3.218.68|  208.41.61.73|   Wales|    1.56|      HTTPS|Opera/8.24.(X11; ...|     iOS|\n",
            "+-------------------+-------------+------------------+-------+-------+---------------+--------------+--------+--------+-----------+--------------------+--------+\n",
            "only showing top 5 rows\n",
            "\n"
          ]
        }
      ]
    },
    {
      "cell_type": "code",
      "source": [
        "# creating a new data frame\n",
        "data = [(\"Alice\", 25), (\"Bob\", 30), (\"Charlie\", 35), (\"Alice\", 25), (\"Alice\", 25)]\n",
        "dataFrame1 = spark.createDataFrame(data, [\"Name\", \"Age\"])"
      ],
      "metadata": {
        "id": "Z3S62cs9zbkF"
      },
      "execution_count": null,
      "outputs": []
    },
    {
      "cell_type": "code",
      "source": [
        "# Creating New Dataframe from Set of Data\n",
        "data = [(\"Alice\", 25), (\"Bob\", 30), (\"Charlie\", 35), (\"Alice\", 25), (\"Alice\", 25)]\n",
        "dataFrame1 = spark.createDataFrame(data, [\"Name\", \"Age\"])"
      ],
      "metadata": {
        "id": "eNH5G-4I3UXe"
      },
      "execution_count": null,
      "outputs": []
    },
    {
      "cell_type": "code",
      "source": [
        "dataFrame1.show()"
      ],
      "metadata": {
        "colab": {
          "base_uri": "https://localhost:8080/"
        },
        "id": "rQlDLoXk3oEH",
        "outputId": "e581cf91-eb1c-4ac9-e3a7-79a943768404"
      },
      "execution_count": null,
      "outputs": [
        {
          "output_type": "stream",
          "name": "stdout",
          "text": [
            "+-------+---+\n",
            "|   Name|Age|\n",
            "+-------+---+\n",
            "|  Alice| 25|\n",
            "|    Bob| 30|\n",
            "|Charlie| 35|\n",
            "|  Alice| 25|\n",
            "|  Alice| 25|\n",
            "+-------+---+\n",
            "\n"
          ]
        }
      ]
    },
    {
      "cell_type": "code",
      "source": [
        "# Research, if assiging DataFrame back to same DataFrame has any perfomance impact, and is there any better way of doing it.\n",
        "dataFrame1 = dataFrame1.dropDuplicates()\n",
        "dataFrame1.show()"
      ],
      "metadata": {
        "colab": {
          "base_uri": "https://localhost:8080/"
        },
        "id": "ZqA9Wxw14ASD",
        "outputId": "ecc10031-0470-403b-af30-fb1c05428c05"
      },
      "execution_count": null,
      "outputs": [
        {
          "output_type": "stream",
          "name": "stdout",
          "text": [
            "+-------+---+\n",
            "|   Name|Age|\n",
            "+-------+---+\n",
            "|  Alice| 25|\n",
            "|Charlie| 35|\n",
            "|    Bob| 30|\n",
            "+-------+---+\n",
            "\n"
          ]
        }
      ]
    },
    {
      "cell_type": "code",
      "source": [
        "# Creating New Dataframe from Set of Data\n",
        "data = [(\"1\", \"Office_Supplies\",\"2020-0902\",\"65.94\")]\n",
        "dataFrame1 = spark.createDataFrame(data, [\"S.No\",\"category\", \"order_date\",\"sales\"])"
      ],
      "metadata": {
        "id": "3OobtrI04GsT"
      },
      "execution_count": null,
      "outputs": []
    },
    {
      "cell_type": "code",
      "source": [
        "dataFrame1.show()"
      ],
      "metadata": {
        "colab": {
          "base_uri": "https://localhost:8080/"
        },
        "id": "pOpVtK0CC8N4",
        "outputId": "bc68f507-74b8-411d-d10d-9a95a5c02628"
      },
      "execution_count": null,
      "outputs": [
        {
          "output_type": "stream",
          "name": "stdout",
          "text": [
            "+----+---------------+----------+-----+\n",
            "|S.No|       category|order_date|sales|\n",
            "+----+---------------+----------+-----+\n",
            "|   1|Office_Supplies| 2020-0902|65.94|\n",
            "+----+---------------+----------+-----+\n",
            "\n"
          ]
        }
      ]
    },
    {
      "cell_type": "code",
      "source": [
        "dataSample = [\\\n",
        "        (\"1\", \"Office Supplies\", \"2020-09-02\", 65.94), \\\n",
        "        (\"2\", \"Furniture\", \"2021-12-04\", 11.35), \\\n",
        "        (\"3\", \"Office Supplies\", \"2019-06-12\", 24.56), \\\n",
        "        (\"4\", \"Office Supplies\", \"2020-09-04\", 16.96), \\\n",
        "        (\"5\", \"Technology\", \"2020-09-04\", 279.95), \\\n",
        "        (\"6\", \"Office Supplies\", \"2018-04-21\", 828.84), \\\n",
        "        (\"7\", \"Office Supplies\", \"2019-11-05\", 7.21), \\\n",
        "        (\"8\", \"Office Supplies\", \"2019-11-05\", 27.2), \\\n",
        "        (\"9\", \"Technology\", \"2018-11-03\", 89.97), \\\n",
        "        (\"10\", \"Furniture\", \"2020-02-16\", 318.08), \\\n",
        "        ]\n",
        "dataFrameTest = spark.createDataFrame(dataSample, [\"ID\", \"Category\", \"OrderDate\", \"Sales\"])\n",
        "dataFrameTest.show()"
      ],
      "metadata": {
        "colab": {
          "base_uri": "https://localhost:8080/"
        },
        "id": "3JK9vaXSDOqv",
        "outputId": "2beee868-6853-4068-8860-57f993041162"
      },
      "execution_count": null,
      "outputs": [
        {
          "output_type": "stream",
          "name": "stdout",
          "text": [
            "+---+---------------+----------+------+\n",
            "| ID|       Category| OrderDate| Sales|\n",
            "+---+---------------+----------+------+\n",
            "|  1|Office Supplies|2020-09-02| 65.94|\n",
            "|  2|      Furniture|2021-12-04| 11.35|\n",
            "|  3|Office Supplies|2019-06-12| 24.56|\n",
            "|  4|Office Supplies|2020-09-04| 16.96|\n",
            "|  5|     Technology|2020-09-04|279.95|\n",
            "|  6|Office Supplies|2018-04-21|828.84|\n",
            "|  7|Office Supplies|2019-11-05|  7.21|\n",
            "|  8|Office Supplies|2019-11-05|  27.2|\n",
            "|  9|     Technology|2018-11-03| 89.97|\n",
            "| 10|      Furniture|2020-02-16|318.08|\n",
            "+---+---------------+----------+------+\n",
            "\n"
          ]
        }
      ]
    },
    {
      "cell_type": "code",
      "source": [
        "df.groupBy(\"userid\").count().show()"
      ],
      "metadata": {
        "colab": {
          "base_uri": "https://localhost:8080/"
        },
        "id": "NVU3rja3DfA_",
        "outputId": "0fc78fb1-d693-4cb4-d860-beba8a63c2ce"
      },
      "execution_count": null,
      "outputs": [
        {
          "output_type": "stream",
          "name": "stdout",
          "text": [
            "+-------------+-----+\n",
            "|       userid|count|\n",
            "+-------------+-----+\n",
            "|8815394944307|    2|\n",
            "|9499753068327|    2|\n",
            "|5916035346403|    2|\n",
            "|2748227282317|    2|\n",
            "|7534745612915|    2|\n",
            "|3992919204977|    2|\n",
            "|2962030726906|    2|\n",
            "| 817074018183|    2|\n",
            "| 600457510547|    2|\n",
            "|7519612111747|    2|\n",
            "|4790325374899|    2|\n",
            "|1977802514774|    2|\n",
            "|7931903395117|    2|\n",
            "| 753334451081|    2|\n",
            "|2805823702966|    2|\n",
            "|3469032534055|    2|\n",
            "|8882061994919|    2|\n",
            "| 838331771594|    2|\n",
            "|8696950459136|    2|\n",
            "|3985463086651|    2|\n",
            "+-------------+-----+\n",
            "only showing top 20 rows\n",
            "\n"
          ]
        }
      ]
    },
    {
      "cell_type": "code",
      "source": [
        "df=df.dropDuplicates().show()"
      ],
      "metadata": {
        "colab": {
          "base_uri": "https://localhost:8080/"
        },
        "id": "bf0JCBCmKbpk",
        "outputId": "c0024c71-1a54-44ff-f483-d12c8c72321b"
      },
      "execution_count": null,
      "outputs": [
        {
          "output_type": "stream",
          "name": "stdout",
          "text": [
            "+-------------------+-------------+--------------------+------+------+---------------+---------------+--------+----+-----+--------------------+-------+\n",
            "|                _c0|          _c1|                 _c2|   _c3|   _c4|            _c5|            _c6|     _c7| _c8|  _c9|                _c10|   _c11|\n",
            "+-------------------+-------------+--------------------+------+------+---------------+---------------+--------+----+-----+--------------------+-------+\n",
            "|2023-10-01 16:15:11|5751055358730|   price-herbert.com|334687|261737|  207.81.18.110|162.195.144.136|   Wales|2.96|HTTPS|Opera/9.98.(Windo...|    iOS|\n",
            "|2023-10-01 15:01:23|2871404017925|stephens-webster....|914209|100031|   123.72.8.203| 131.195.104.93| England|0.26| HTTP|Mozilla/5.0 (iPod...|    Mac|\n",
            "|2023-10-03 00:20:34|7750019328502|    young-ahmed.info|305507|421175|   91.250.50.91|  115.72.191.61|Scotland|2.41|HTTPS|Mozilla/5.0 (iPad...|    Mac|\n",
            "|2023-10-01 17:13:26|9333918907957|           duffy.com|264776| 36940| 213.198.19.193|148.126.168.106| Ireland|1.46| HTTP|Mozilla/5.0 (iPho...|Windows|\n",
            "|2023-10-02 06:06:46|5040117545684|        holloway.com|723268|515996|   9.83.134.241| 55.120.233.157|   Wales|1.74| HTTP|Opera/9.76.(X11; ...|    iOS|\n",
            "|2023-10-03 08:07:47|8474933879153|         johnson.com|894626|477019|  15.189.21.115|  151.162.45.22|Scotland| 1.3| HTTP|Mozilla/5.0 (Maci...|    iOS|\n",
            "|2023-10-03 22:58:24|9080324875780|    harris-baker.com|127040|680176|  101.20.24.119| 101.55.229.123| England|2.53| HTTP|Mozilla/5.0 (iPod...|Windows|\n",
            "|2023-10-03 09:58:57|0377437989964|    wilson-flynn.com| 36052|652868|   28.141.55.73| 201.56.106.106| Ireland|2.41| HTTP|Mozilla/5.0 (Maci...|    Mac|\n",
            "|2023-10-01 13:12:14|1739616234778|          clarke.com|956341|299175| 84.136.157.169| 159.185.152.42| Ireland|0.36| HTTP|Opera/8.30.(X11; ...|    iOS|\n",
            "|2023-10-04 11:43:47|2703017014095|          watson.biz|838086|653809|  1.202.248.133|    9.61.60.241| Ireland|2.39|HTTPS|Mozilla/5.0 (Wind...|    Mac|\n",
            "|2023-10-03 13:07:09|6874884214875|          obrien.com|863849|844285|   25.0.171.181|  59.19.199.123|   Wales|1.12|HTTPS|Mozilla/5.0 (iPod...|    iOS|\n",
            "|2023-10-05 19:49:43|2553089848687|           jones.org|572553|348929|   52.197.1.221|141.229.182.150|   Wales|1.55| HTTP|Mozilla/5.0 (iPad...|    Mac|\n",
            "|2023-10-05 19:21:17|4154979429415|          walker.com|861670|397339|   188.85.71.52|217.151.112.145| Ireland|0.38| HTTP|Mozilla/5.0 (iPod...|    Mac|\n",
            "|2023-10-01 09:53:04|7421152662693|        conway.co.uk|957474|544301| 21.188.156.134| 83.162.141.254|Scotland|2.15|HTTPS|Mozilla/5.0 (comp...|Android|\n",
            "|2023-10-05 10:01:55|7955478068637|        atkinson.com|782396|860461|131.115.153.252|173.130.121.137| England| 0.6|HTTPS|Mozilla/5.0 (Andr...|  Linux|\n",
            "|2023-10-04 08:55:51|3922682398777|        campbell.com|540251|520435|  124.84.174.58|  35.187.97.198| Ireland|0.99| HTTP|Mozilla/5.0 (comp...|Android|\n",
            "|2023-10-05 18:55:09|6338998095307|  barrett-wilson.com|698643|598242|  115.59.91.203|138.155.144.145| England|1.49| HTTP|Mozilla/5.0 (Linu...|  Linux|\n",
            "|2023-10-04 07:15:38|7733641902075|        marshall.org|931428|764175|     110.6.78.2| 135.14.148.109|   Wales|1.45|HTTPS|Mozilla/5.0 (Wind...|Android|\n",
            "|2023-10-03 04:45:04|2974250101183|            hunt.com|411969|651782|  35.174.43.183| 106.89.185.246|   Wales|0.02|HTTPS|Mozilla/5.0 (comp...|    iOS|\n",
            "|2023-10-04 19:26:08|3684169648697|        nicholls.com|499505|474614|207.242.212.119|  30.182.99.214| Ireland|2.88|HTTPS|Mozilla/5.0 (Maci...|Windows|\n",
            "+-------------------+-------------+--------------------+------+------+---------------+---------------+--------+----+-----+--------------------+-------+\n",
            "only showing top 20 rows\n",
            "\n"
          ]
        }
      ]
    },
    {
      "cell_type": "code",
      "source": [
        "df.dropDuplicates(['userid']).show()"
      ],
      "metadata": {
        "colab": {
          "base_uri": "https://localhost:8080/"
        },
        "id": "aD19bA3QUIqE",
        "outputId": "328b8602-c0fb-4408-ff31-c5c0d518c064"
      },
      "execution_count": null,
      "outputs": [
        {
          "output_type": "stream",
          "name": "stdout",
          "text": [
            "+-------------------+----------+--------------------+-------+-------+---------------+---------------+--------+--------+-----------+--------------------+--------+\n",
            "|          date_time|    userid|              domain|dlbytes|ulbytes|       clientip|       serverip| country|txn_time|http_method|          user_agent|platform|\n",
            "+-------------------+----------+--------------------+-------+-------+---------------+---------------+--------+--------+-----------+--------------------+--------+\n",
            "|2023-10-01 19:20:24|  34807482|         webster.net| 429570| 228229| 168.22.133.196| 188.131.178.65| Ireland|    2.71|      HTTPS|Mozilla/5.0 (Wind...| Android|\n",
            "|2023-10-04 06:21:05|  88393327|          turner.com| 388236| 629827| 154.157.232.93|176.234.133.159|Scotland|    2.86|       HTTP|Mozilla/5.0 (Maci...| Windows|\n",
            "|2023-10-03 23:34:32| 128265483|        harrison.com| 333553| 968869|  37.122.37.184| 12.162.147.195|Scotland|    2.19|       HTTP|Opera/9.76.(Windo...|   Linux|\n",
            "|2023-10-01 07:30:22| 361494373|          kirby.info| 247353| 584248| 115.60.168.113| 106.60.246.177| Ireland|    1.73|       HTTP|Mozilla/5.0 (X11;...| Windows|\n",
            "|2023-10-02 03:42:11|1130096601|  jones-harrison.com| 950184| 375568|   94.20.247.44|   77.205.51.89|   Wales|    0.49|       HTTP|Mozilla/5.0 (Wind...|     Mac|\n",
            "|2023-10-02 20:14:20|1282602212|stanley-nicholson...| 529285| 853240|  87.147.33.248|  47.115.191.88| England|    2.08|      HTTPS|Mozilla/5.0 (iPad...|   Linux|\n",
            "|2023-10-03 17:53:45|1313720052|          oneill.org| 747704| 314841|146.176.123.105|119.162.164.139| England|    1.95|       HTTP|Mozilla/5.0 (iPho...|     Mac|\n",
            "|2023-10-05 22:07:58|1582121441|          barlow.com| 885053| 173218| 203.22.206.143|  43.207.119.60| England|     0.0|       HTTP|Mozilla/5.0 (comp...| Android|\n",
            "|2023-10-01 09:54:58|2240061499|          brooks.net| 106919| 351374|   129.8.89.177|  186.98.153.31|Scotland|    2.44|      HTTPS|Opera/9.82.(X11; ...| Android|\n",
            "|2023-10-01 15:42:01|2425584610|    wright-white.com|  13719| 595507|133.242.111.204| 183.51.217.241| Ireland|     2.9|      HTTPS|Mozilla/5.0 (X11;...|   Linux|\n",
            "|2023-10-04 05:53:26|2560448662|    marsh-clarke.com| 438243|  12995|  71.13.230.216|   131.91.43.82|Scotland|    2.84|       HTTP|Mozilla/5.0 (iPod...|   Linux|\n",
            "|2023-10-05 16:48:22|2650049334|          baxter.com| 912843| 942550|    152.51.50.6|101.234.165.216| Ireland|    1.36|       HTTP|Mozilla/5.0 (Wind...|   Linux|\n",
            "|2023-10-01 19:30:04|2942326151|      lynch-john.net| 610606| 787366|  51.225.19.171| 148.224.53.190|Scotland|    0.68|       HTTP|Opera/8.40.(Windo...|   Linux|\n",
            "|2023-10-01 15:22:36|3348050063|           jones.com|  50800| 441858| 106.57.200.214|  151.23.154.39| Ireland|    0.76|      HTTPS|Mozilla/5.0 (Maci...|     Mac|\n",
            "|2023-10-02 22:02:28|3362352146|          thomas.com| 281809|  31784| 223.134.98.254| 141.216.238.79| England|     1.4|      HTTPS|Mozilla/5.0 (iPod...| Android|\n",
            "|2023-10-01 05:55:55|3675997061|         osborne.com| 955497| 845021|  73.152.128.68| 30.218.241.157| Ireland|    0.38|      HTTPS|Mozilla/5.0 (Wind...|     iOS|\n",
            "|2023-10-02 10:45:43|3860685467|          barton.com| 701021| 795588|  99.233.235.32|102.123.129.225| England|    2.02|       HTTP|Mozilla/5.0 (comp...| Windows|\n",
            "|2023-10-02 06:26:16|4053915412|       robertson.com| 216521|  52914|   32.66.83.226|  97.127.241.23| Ireland|    0.66|      HTTPS|Mozilla/5.0 (Wind...|     iOS|\n",
            "|2023-10-03 12:55:00|4444008934|          wright.net| 925109| 642682| 23.230.124.134|    85.3.111.31|Scotland|    0.65|       HTTP|Mozilla/5.0 (Maci...|     Mac|\n",
            "|2023-10-01 13:25:16|4551529421|      green-bird.biz| 488443| 987643|  67.130.39.111|   41.199.87.46| England|    2.65|       HTTP|Mozilla/5.0 (X11;...| Android|\n",
            "+-------------------+----------+--------------------+-------+-------+---------------+---------------+--------+--------+-----------+--------------------+--------+\n",
            "only showing top 20 rows\n",
            "\n"
          ]
        }
      ]
    },
    {
      "cell_type": "code",
      "source": [
        "#\n",
        "df.groupBy(['userid']).count().show()\n",
        "#dataFrame.dropDuplicates(['userid']).groupBy(['userid']).count().show()"
      ],
      "metadata": {
        "colab": {
          "base_uri": "https://localhost:8080/"
        },
        "id": "wO0BgjW3ed8a",
        "outputId": "6703fbf6-e027-41f0-b084-5d9c14878c14"
      },
      "execution_count": null,
      "outputs": [
        {
          "output_type": "stream",
          "name": "stdout",
          "text": [
            "+-------------+-----+\n",
            "|       userid|count|\n",
            "+-------------+-----+\n",
            "|8815394944307|    2|\n",
            "|9499753068327|    2|\n",
            "|5916035346403|    2|\n",
            "|2748227282317|    2|\n",
            "|7534745612915|    2|\n",
            "|3992919204977|    2|\n",
            "|2962030726906|    2|\n",
            "| 817074018183|    2|\n",
            "| 600457510547|    2|\n",
            "|7519612111747|    2|\n",
            "|4790325374899|    2|\n",
            "|1977802514774|    2|\n",
            "|7931903395117|    2|\n",
            "| 753334451081|    2|\n",
            "|2805823702966|    2|\n",
            "|3469032534055|    2|\n",
            "|8882061994919|    2|\n",
            "| 838331771594|    2|\n",
            "|8696950459136|    2|\n",
            "|3985463086651|    2|\n",
            "+-------------+-----+\n",
            "only showing top 20 rows\n",
            "\n"
          ]
        }
      ]
    },
    {
      "cell_type": "code",
      "source": [
        "#writing to file\n",
        "df.write.csv('mycsvfile')"
      ],
      "metadata": {
        "id": "eTIho7-0ekFD"
      },
      "execution_count": null,
      "outputs": []
    },
    {
      "cell_type": "code",
      "source": [
        "df=df.coalesce(1) # after coalesce single file or partition made\n",
        "# limitataion complete failure and time consuming"
      ],
      "metadata": {
        "id": "aCCNod0df2OQ"
      },
      "execution_count": null,
      "outputs": []
    },
    {
      "cell_type": "code",
      "source": [
        "df.write.csv('mycsvfile2')"
      ],
      "metadata": {
        "id": "RdRVfsi4f6oa"
      },
      "execution_count": null,
      "outputs": []
    },
    {
      "cell_type": "code",
      "source": [
        "df.write.json('myjsonfile2')"
      ],
      "metadata": {
        "id": "e7SQ2Vfdf_Nn"
      },
      "execution_count": null,
      "outputs": []
    },
    {
      "cell_type": "code",
      "source": [
        "df.write.parquet('myparquet')"
      ],
      "metadata": {
        "id": "Xteq6TUNgFDF"
      },
      "execution_count": null,
      "outputs": []
    },
    {
      "cell_type": "code",
      "source": [
        "# Calculate Year Wise Sales\n",
        "\n",
        " # .filter( year(dataFrameTest.OrderDate).isin (2019, 2020)) \\\n",
        "\n",
        "dataFrameTest \\\n",
        "    .where( year(dataFrameTest.OrderDate).isin (2019, 2020)) \\\n",
        "    .groupBy('Category') \\\n",
        "    .agg( \\\n",
        "         sum( \\\n",
        "             when (\\\n",
        "                   year('OrderDate') == 2019, \\\n",
        "                   col('Sales') \\\n",
        "                   ) \\\n",
        "              .otherwise(0) \\\n",
        "              ) \\\n",
        "          .alias('Sales2019'), \\\n",
        "         sum( \\\n",
        "             when (\\\n",
        "                   year('OrderDate') == 2020, \\\n",
        "                   dataFrameTest.Sales \\\n",
        "                   ) \\\n",
        "              .otherwise(0) \\\n",
        "              ) \\\n",
        "          .alias('Sales2020') \\\n",
        "          ) \\\n",
        "    .select(col('Category'), 'Sales2019', 'Sales2020') \\\n",
        "    .orderBy(col('Category').desc()) \\\n",
        "    .show()"
      ],
      "metadata": {
        "colab": {
          "base_uri": "https://localhost:8080/"
        },
        "id": "FryRtYdLnfIM",
        "outputId": "14400454-fc95-4d44-ff53-44baa74a406b"
      },
      "execution_count": null,
      "outputs": [
        {
          "output_type": "stream",
          "name": "stdout",
          "text": [
            "+---------------+---------+---------+\n",
            "|       Category|Sales2019|Sales2020|\n",
            "+---------------+---------+---------+\n",
            "|     Technology|      0.0|   279.95|\n",
            "|Office Supplies|    58.97|     82.9|\n",
            "|      Furniture|      0.0|   318.08|\n",
            "+---------------+---------+---------+\n",
            "\n"
          ]
        }
      ]
    },
    {
      "cell_type": "code",
      "source": [
        "from pyspark.sql.functions import when"
      ],
      "metadata": {
        "id": "qrKdI0OixAS6"
      },
      "execution_count": null,
      "outputs": []
    },
    {
      "cell_type": "code",
      "source": [
        "df.withColumn(\"caseexample\",when[\"dlbytes\"] > 500, \"large\").otherwise(\"small\").show()"
      ],
      "metadata": {
        "colab": {
          "base_uri": "https://localhost:8080/",
          "height": 193
        },
        "id": "OKf294uNyo1N",
        "outputId": "4da87ea8-181b-4dd7-8397-5278067847e1"
      },
      "execution_count": null,
      "outputs": [
        {
          "output_type": "error",
          "ename": "TypeError",
          "evalue": "'function' object is not subscriptable",
          "traceback": [
            "\u001b[0;31m---------------------------------------------------------------------------\u001b[0m",
            "\u001b[0;31mTypeError\u001b[0m                                 Traceback (most recent call last)",
            "\u001b[0;32m<ipython-input-147-416dd764bc5a>\u001b[0m in \u001b[0;36m<cell line: 1>\u001b[0;34m()\u001b[0m\n\u001b[0;32m----> 1\u001b[0;31m \u001b[0mdf\u001b[0m\u001b[0;34m.\u001b[0m\u001b[0mwithColumn\u001b[0m\u001b[0;34m(\u001b[0m\u001b[0;34m\"caseexample\"\u001b[0m\u001b[0;34m,\u001b[0m\u001b[0mwhen\u001b[0m\u001b[0;34m[\u001b[0m\u001b[0;34m\"dlbytes\"\u001b[0m\u001b[0;34m]\u001b[0m \u001b[0;34m>\u001b[0m \u001b[0;36m500\u001b[0m\u001b[0;34m,\u001b[0m \u001b[0;34m\"large\"\u001b[0m\u001b[0;34m)\u001b[0m\u001b[0;34m.\u001b[0m\u001b[0motherwise\u001b[0m\u001b[0;34m(\u001b[0m\u001b[0;34m\"small\"\u001b[0m\u001b[0;34m)\u001b[0m\u001b[0;34m.\u001b[0m\u001b[0mshow\u001b[0m\u001b[0;34m(\u001b[0m\u001b[0;34m)\u001b[0m\u001b[0;34m\u001b[0m\u001b[0;34m\u001b[0m\u001b[0m\n\u001b[0m",
            "\u001b[0;31mTypeError\u001b[0m: 'function' object is not subscriptable"
          ]
        }
      ]
    },
    {
      "cell_type": "code",
      "source": [
        "from pyspark.sql.functions import isnull"
      ],
      "metadata": {
        "id": "R_82AQnzzILV"
      },
      "execution_count": null,
      "outputs": []
    },
    {
      "cell_type": "code",
      "source": [
        "df.withColumn(\"nullexample\", when(isnull(df[\"use_agent\"]),1).otherwise(0)).show()"
      ],
      "metadata": {
        "colab": {
          "base_uri": "https://localhost:8080/",
          "height": 425
        },
        "id": "xDXIYj1G2MB4",
        "outputId": "943df9f4-238a-409b-f1f5-4397f9604d75"
      },
      "execution_count": null,
      "outputs": [
        {
          "output_type": "error",
          "ename": "AnalysisException",
          "evalue": "[UNRESOLVED_COLUMN.WITH_SUGGESTION] A column or function parameter with name `use_agent` cannot be resolved. Did you mean one of the following? [`date_time`, `userid`, `domain`, `dlbytes`, `ulbytes`, `clientip`, `serverip`, `country`, `txn_time`, `http_method`, `user_agent`, `platform`].",
          "traceback": [
            "\u001b[0;31m---------------------------------------------------------------------------\u001b[0m",
            "\u001b[0;31mAnalysisException\u001b[0m                         Traceback (most recent call last)",
            "\u001b[0;32m<ipython-input-141-b048e33c8d1d>\u001b[0m in \u001b[0;36m<cell line: 1>\u001b[0;34m()\u001b[0m\n\u001b[0;32m----> 1\u001b[0;31m \u001b[0mdf\u001b[0m\u001b[0;34m.\u001b[0m\u001b[0mwithColumn\u001b[0m\u001b[0;34m(\u001b[0m\u001b[0;34m\"nullexample\"\u001b[0m\u001b[0;34m,\u001b[0m \u001b[0mwhen\u001b[0m\u001b[0;34m(\u001b[0m\u001b[0misnull\u001b[0m\u001b[0;34m(\u001b[0m\u001b[0mdf\u001b[0m\u001b[0;34m[\u001b[0m\u001b[0;34m\"use_agent\"\u001b[0m\u001b[0;34m]\u001b[0m\u001b[0;34m)\u001b[0m\u001b[0;34m,\u001b[0m\u001b[0;36m1\u001b[0m\u001b[0;34m)\u001b[0m\u001b[0;34m.\u001b[0m\u001b[0motherwise\u001b[0m\u001b[0;34m(\u001b[0m\u001b[0;36m0\u001b[0m\u001b[0;34m)\u001b[0m\u001b[0;34m)\u001b[0m\u001b[0;34m.\u001b[0m\u001b[0mshow\u001b[0m\u001b[0;34m(\u001b[0m\u001b[0;34m)\u001b[0m\u001b[0;34m\u001b[0m\u001b[0;34m\u001b[0m\u001b[0m\n\u001b[0m",
            "\u001b[0;32m/usr/local/lib/python3.10/dist-packages/pyspark/sql/dataframe.py\u001b[0m in \u001b[0;36m__getitem__\u001b[0;34m(self, item)\u001b[0m\n\u001b[1;32m   3072\u001b[0m         \"\"\"\n\u001b[1;32m   3073\u001b[0m         \u001b[0;32mif\u001b[0m \u001b[0misinstance\u001b[0m\u001b[0;34m(\u001b[0m\u001b[0mitem\u001b[0m\u001b[0;34m,\u001b[0m \u001b[0mstr\u001b[0m\u001b[0;34m)\u001b[0m\u001b[0;34m:\u001b[0m\u001b[0;34m\u001b[0m\u001b[0;34m\u001b[0m\u001b[0m\n\u001b[0;32m-> 3074\u001b[0;31m             \u001b[0mjc\u001b[0m \u001b[0;34m=\u001b[0m \u001b[0mself\u001b[0m\u001b[0;34m.\u001b[0m\u001b[0m_jdf\u001b[0m\u001b[0;34m.\u001b[0m\u001b[0mapply\u001b[0m\u001b[0;34m(\u001b[0m\u001b[0mitem\u001b[0m\u001b[0;34m)\u001b[0m\u001b[0;34m\u001b[0m\u001b[0;34m\u001b[0m\u001b[0m\n\u001b[0m\u001b[1;32m   3075\u001b[0m             \u001b[0;32mreturn\u001b[0m \u001b[0mColumn\u001b[0m\u001b[0;34m(\u001b[0m\u001b[0mjc\u001b[0m\u001b[0;34m)\u001b[0m\u001b[0;34m\u001b[0m\u001b[0;34m\u001b[0m\u001b[0m\n\u001b[1;32m   3076\u001b[0m         \u001b[0;32melif\u001b[0m \u001b[0misinstance\u001b[0m\u001b[0;34m(\u001b[0m\u001b[0mitem\u001b[0m\u001b[0;34m,\u001b[0m \u001b[0mColumn\u001b[0m\u001b[0;34m)\u001b[0m\u001b[0;34m:\u001b[0m\u001b[0;34m\u001b[0m\u001b[0;34m\u001b[0m\u001b[0m\n",
            "\u001b[0;32m/usr/local/lib/python3.10/dist-packages/py4j/java_gateway.py\u001b[0m in \u001b[0;36m__call__\u001b[0;34m(self, *args)\u001b[0m\n\u001b[1;32m   1320\u001b[0m \u001b[0;34m\u001b[0m\u001b[0m\n\u001b[1;32m   1321\u001b[0m         \u001b[0manswer\u001b[0m \u001b[0;34m=\u001b[0m \u001b[0mself\u001b[0m\u001b[0;34m.\u001b[0m\u001b[0mgateway_client\u001b[0m\u001b[0;34m.\u001b[0m\u001b[0msend_command\u001b[0m\u001b[0;34m(\u001b[0m\u001b[0mcommand\u001b[0m\u001b[0;34m)\u001b[0m\u001b[0;34m\u001b[0m\u001b[0;34m\u001b[0m\u001b[0m\n\u001b[0;32m-> 1322\u001b[0;31m         return_value = get_return_value(\n\u001b[0m\u001b[1;32m   1323\u001b[0m             answer, self.gateway_client, self.target_id, self.name)\n\u001b[1;32m   1324\u001b[0m \u001b[0;34m\u001b[0m\u001b[0m\n",
            "\u001b[0;32m/usr/local/lib/python3.10/dist-packages/pyspark/errors/exceptions/captured.py\u001b[0m in \u001b[0;36mdeco\u001b[0;34m(*a, **kw)\u001b[0m\n\u001b[1;32m    183\u001b[0m                 \u001b[0;31m# Hide where the exception came from that shows a non-Pythonic\u001b[0m\u001b[0;34m\u001b[0m\u001b[0;34m\u001b[0m\u001b[0m\n\u001b[1;32m    184\u001b[0m                 \u001b[0;31m# JVM exception message.\u001b[0m\u001b[0;34m\u001b[0m\u001b[0;34m\u001b[0m\u001b[0m\n\u001b[0;32m--> 185\u001b[0;31m                 \u001b[0;32mraise\u001b[0m \u001b[0mconverted\u001b[0m \u001b[0;32mfrom\u001b[0m \u001b[0;32mNone\u001b[0m\u001b[0;34m\u001b[0m\u001b[0;34m\u001b[0m\u001b[0m\n\u001b[0m\u001b[1;32m    186\u001b[0m             \u001b[0;32melse\u001b[0m\u001b[0;34m:\u001b[0m\u001b[0;34m\u001b[0m\u001b[0;34m\u001b[0m\u001b[0m\n\u001b[1;32m    187\u001b[0m                 \u001b[0;32mraise\u001b[0m\u001b[0;34m\u001b[0m\u001b[0;34m\u001b[0m\u001b[0m\n",
            "\u001b[0;31mAnalysisException\u001b[0m: [UNRESOLVED_COLUMN.WITH_SUGGESTION] A column or function parameter with name `use_agent` cannot be resolved. Did you mean one of the following? [`date_time`, `userid`, `domain`, `dlbytes`, `ulbytes`, `clientip`, `serverip`, `country`, `txn_time`, `http_method`, `user_agent`, `platform`]."
          ]
        }
      ]
    },
    {
      "cell_type": "code",
      "source": [
        "#something is true and somthing is true\n",
        "df.withColumn(\"transectionsize\",\n",
        "              when(\n",
        "                  (df[\"dlbytes\"] > 500000) & (df[\"ulbytes\"] > 500000),\n",
        "                  \"large\"\n",
        "                  ).otherwise(\"small\")).show()"
      ],
      "metadata": {
        "colab": {
          "base_uri": "https://localhost:8080/"
        },
        "id": "PguedPtq2tFW",
        "outputId": "7a347179-f0ec-445f-a50b-9d4ec05f49f9"
      },
      "execution_count": null,
      "outputs": [
        {
          "output_type": "stream",
          "name": "stdout",
          "text": [
            "+-------------------+-------------+--------------------+-------+-------+---------------+---------------+--------+--------+-----------+--------------------+--------+---------------+\n",
            "|          date_time|       userid|              domain|dlbytes|ulbytes|       clientip|       serverip| country|txn_time|http_method|          user_agent|platform|transectionsize|\n",
            "+-------------------+-------------+--------------------+-------+-------+---------------+---------------+--------+--------+-----------+--------------------+--------+---------------+\n",
            "|2023-10-04 11:37:11|7773153683656|    ryan-wells.co.uk| 872807| 741526|142.132.219.110|  62.42.184.180| England|    2.33|      HTTPS|Mozilla/5.0 (Wind...| Android|          large|\n",
            "|2023-10-04 12:17:07|1886351675683|         hopkins.org|  50898| 529504|  184.205.48.78|  152.123.41.39|   Wales|     1.2|       HTTP|Mozilla/5.0 (Wind...| Android|          small|\n",
            "|2023-10-02 23:25:12|1597721345356|           evans.com| 964276| 952420|  189.30.60.163|  68.171.236.18|Scotland|    1.32|       HTTP|Mozilla/5.0 (Wind...|   Linux|          large|\n",
            "|2023-10-03 09:43:11|9766845800247|           kelly.com| 212529| 811887|   13.144.79.35|  63.141.80.109| England|    2.58|      HTTPS|Opera/8.54.(X11; ...| Android|          small|\n",
            "|2023-10-01 08:16:46|1546762097287|richardson-walker...| 553626| 901428| 143.74.163.248|  26.253.17.223|   Wales|    1.53|       HTTP|Mozilla/5.0 (Maci...| Windows|          large|\n",
            "|2023-10-01 13:49:39|8949163845658|            lowe.com|  43595|  77597|  148.15.214.37|     4.33.9.229| England|    1.68|       HTTP|Mozilla/5.0 (Linu...|     Mac|          small|\n",
            "|2023-10-02 02:22:30|8035878244556|            webb.com| 270574|  94701|  73.78.116.223|    82.69.61.25| England|    2.19|      HTTPS|Mozilla/5.0 (Wind...| Windows|          small|\n",
            "|2023-10-03 11:48:19|3400788003398|           watts.com| 342378| 715125|  142.37.27.131| 41.152.174.228|Scotland|    2.92|       HTTP|Opera/8.53.(Windo...|   Linux|          small|\n",
            "|2023-10-02 12:45:41|7007039082075|   kemp-robinson.org| 613214| 239494| 80.245.249.129|198.186.190.149|Scotland|    1.78|      HTTPS|Mozilla/5.0 (X11;...|     Mac|          small|\n",
            "|2023-10-03 08:59:16| 893913938070|           smith.com| 643362| 146752|    21.239.54.8|  136.170.182.7| England|    0.58|      HTTPS|Mozilla/5.0 (Andr...| Windows|          small|\n",
            "|2023-10-05 21:36:53|3102780874474|   wilson-butler.com| 603759| 616834| 57.113.168.155|162.232.192.227| Ireland|    2.42|      HTTPS|Mozilla/5.0 (Andr...|     Mac|          large|\n",
            "|2023-10-02 03:26:59|7214908687567|            hunt.com| 707145| 995270|  98.141.197.15| 107.239.246.38| England|    1.95|       HTTP|Opera/9.31.(Windo...|     iOS|          large|\n",
            "|2023-10-04 03:09:58| 291279030607|           jones.org| 640439| 373389|       98.3.2.5|   148.44.76.68|   Wales|    2.47|       HTTP|Mozilla/5.0 (Maci...|     Mac|          small|\n",
            "|2023-10-02 10:16:25|1042763747479|         thomas.info| 764956| 952036|187.182.236.233|   85.61.114.36| England|    1.42|       HTTP|Mozilla/5.0 (Andr...| Android|          large|\n",
            "|2023-10-05 02:22:40|2322746906974|franklin-whittake...| 651947| 183369| 26.138.157.236| 142.176.162.10| Ireland|    1.35|      HTTPS|Opera/8.74.(Windo...|   Linux|          small|\n",
            "|2023-10-01 18:12:17| 316289568864|         godfrey.com| 428528|  78946| 65.224.238.100|  128.90.192.17| Ireland|    1.61|       HTTP|Opera/9.16.(Windo...|   Linux|          small|\n",
            "|2023-10-01 20:09:39|1093994305313|          wilson.com|  23710|  84942|  129.221.29.97|  18.191.29.117|   Wales|    1.25|       HTTP|Opera/9.17.(X11; ...|     iOS|          small|\n",
            "|2023-10-03 04:45:13|7035874783254|      cole-jones.com| 447095| 390148|   94.98.62.187|172.173.228.171|   Wales|    2.43|       HTTP|Mozilla/5.0 (comp...| Android|          small|\n",
            "|2023-10-05 18:48:05|7798663185667|            hall.net| 809701|  11489|  82.141.112.88|  110.103.99.71| England|    2.66|      HTTPS|Mozilla/5.0 (iPad...|     iOS|          small|\n",
            "|2023-10-02 13:47:58| 150443056843|            todd.com| 204941| 114006|   161.8.210.40| 208.230.61.215|Scotland|    2.69|       HTTP|Opera/9.36.(X11; ...| Android|          small|\n",
            "+-------------------+-------------+--------------------+-------+-------+---------------+---------------+--------+--------+-----------+--------------------+--------+---------------+\n",
            "only showing top 20 rows\n",
            "\n"
          ]
        }
      ]
    },
    {
      "cell_type": "code",
      "source": [
        "#something is true and somthing is true\n",
        "df.withColumn(\"transectionsize\",\n",
        "              when(\n",
        "                  (df[\"dlbytes\"] > 500000) | (df[\"ulbytes\"] > 500000),\n",
        "                  \"large\"\n",
        "                  ).otherwise(\"small\")).show(2)"
      ],
      "metadata": {
        "colab": {
          "base_uri": "https://localhost:8080/"
        },
        "id": "briSpxv63iCt",
        "outputId": "e22c77bf-1bb5-400d-b4a0-675cbded1af8"
      },
      "execution_count": null,
      "outputs": [
        {
          "output_type": "stream",
          "name": "stdout",
          "text": [
            "+-------------------+-------------+----------------+-------+-------+---------------+-------------+-------+--------+-----------+--------------------+--------+---------------+\n",
            "|          date_time|       userid|          domain|dlbytes|ulbytes|       clientip|     serverip|country|txn_time|http_method|          user_agent|platform|transectionsize|\n",
            "+-------------------+-------------+----------------+-------+-------+---------------+-------------+-------+--------+-----------+--------------------+--------+---------------+\n",
            "|2023-10-04 11:37:11|7773153683656|ryan-wells.co.uk| 872807| 741526|142.132.219.110|62.42.184.180|England|    2.33|      HTTPS|Mozilla/5.0 (Wind...| Android|          large|\n",
            "|2023-10-04 12:17:07|1886351675683|     hopkins.org|  50898| 529504|  184.205.48.78|152.123.41.39|  Wales|     1.2|       HTTP|Mozilla/5.0 (Wind...| Android|          large|\n",
            "+-------------------+-------------+----------------+-------+-------+---------------+-------------+-------+--------+-----------+--------------------+--------+---------------+\n",
            "only showing top 2 rows\n",
            "\n"
          ]
        }
      ]
    },
    {
      "cell_type": "code",
      "source": [
        "df \\\n",
        ".withColumn(\n",
        "    \"TransactionSize\",\n",
        "    when(\n",
        "        (col('dlbytes') > 500000) &\n",
        "         (col('ulbytes') > 500000), 'Large'\n",
        "    )\n",
        "    .otherwise('Small')\n",
        ").show()\n",
        "\n"
      ],
      "metadata": {
        "colab": {
          "base_uri": "https://localhost:8080/"
        },
        "id": "zGuiAFNH58hP",
        "outputId": "6d03f292-2935-458b-98a6-84819a971997"
      },
      "execution_count": null,
      "outputs": [
        {
          "output_type": "stream",
          "name": "stdout",
          "text": [
            "+-------------------+-------------+--------------------+-------+-------+---------------+---------------+--------+--------+-----------+--------------------+--------+---------------+\n",
            "|          date_time|       userid|              domain|dlbytes|ulbytes|       clientip|       serverip| country|txn_time|http_method|          user_agent|platform|TransactionSize|\n",
            "+-------------------+-------------+--------------------+-------+-------+---------------+---------------+--------+--------+-----------+--------------------+--------+---------------+\n",
            "|2023-10-04 11:37:11|7773153683656|    ryan-wells.co.uk| 872807| 741526|142.132.219.110|  62.42.184.180| England|    2.33|      HTTPS|Mozilla/5.0 (Wind...| Android|          Large|\n",
            "|2023-10-04 12:17:07|1886351675683|         hopkins.org|  50898| 529504|  184.205.48.78|  152.123.41.39|   Wales|     1.2|       HTTP|Mozilla/5.0 (Wind...| Android|          Small|\n",
            "|2023-10-02 23:25:12|1597721345356|           evans.com| 964276| 952420|  189.30.60.163|  68.171.236.18|Scotland|    1.32|       HTTP|Mozilla/5.0 (Wind...|   Linux|          Large|\n",
            "|2023-10-03 09:43:11|9766845800247|           kelly.com| 212529| 811887|   13.144.79.35|  63.141.80.109| England|    2.58|      HTTPS|Opera/8.54.(X11; ...| Android|          Small|\n",
            "|2023-10-01 08:16:46|1546762097287|richardson-walker...| 553626| 901428| 143.74.163.248|  26.253.17.223|   Wales|    1.53|       HTTP|Mozilla/5.0 (Maci...| Windows|          Large|\n",
            "|2023-10-01 13:49:39|8949163845658|            lowe.com|  43595|  77597|  148.15.214.37|     4.33.9.229| England|    1.68|       HTTP|Mozilla/5.0 (Linu...|     Mac|          Small|\n",
            "|2023-10-02 02:22:30|8035878244556|            webb.com| 270574|  94701|  73.78.116.223|    82.69.61.25| England|    2.19|      HTTPS|Mozilla/5.0 (Wind...| Windows|          Small|\n",
            "|2023-10-03 11:48:19|3400788003398|           watts.com| 342378| 715125|  142.37.27.131| 41.152.174.228|Scotland|    2.92|       HTTP|Opera/8.53.(Windo...|   Linux|          Small|\n",
            "|2023-10-02 12:45:41|7007039082075|   kemp-robinson.org| 613214| 239494| 80.245.249.129|198.186.190.149|Scotland|    1.78|      HTTPS|Mozilla/5.0 (X11;...|     Mac|          Small|\n",
            "|2023-10-03 08:59:16| 893913938070|           smith.com| 643362| 146752|    21.239.54.8|  136.170.182.7| England|    0.58|      HTTPS|Mozilla/5.0 (Andr...| Windows|          Small|\n",
            "|2023-10-05 21:36:53|3102780874474|   wilson-butler.com| 603759| 616834| 57.113.168.155|162.232.192.227| Ireland|    2.42|      HTTPS|Mozilla/5.0 (Andr...|     Mac|          Large|\n",
            "|2023-10-02 03:26:59|7214908687567|            hunt.com| 707145| 995270|  98.141.197.15| 107.239.246.38| England|    1.95|       HTTP|Opera/9.31.(Windo...|     iOS|          Large|\n",
            "|2023-10-04 03:09:58| 291279030607|           jones.org| 640439| 373389|       98.3.2.5|   148.44.76.68|   Wales|    2.47|       HTTP|Mozilla/5.0 (Maci...|     Mac|          Small|\n",
            "|2023-10-02 10:16:25|1042763747479|         thomas.info| 764956| 952036|187.182.236.233|   85.61.114.36| England|    1.42|       HTTP|Mozilla/5.0 (Andr...| Android|          Large|\n",
            "|2023-10-05 02:22:40|2322746906974|franklin-whittake...| 651947| 183369| 26.138.157.236| 142.176.162.10| Ireland|    1.35|      HTTPS|Opera/8.74.(Windo...|   Linux|          Small|\n",
            "|2023-10-01 18:12:17| 316289568864|         godfrey.com| 428528|  78946| 65.224.238.100|  128.90.192.17| Ireland|    1.61|       HTTP|Opera/9.16.(Windo...|   Linux|          Small|\n",
            "|2023-10-01 20:09:39|1093994305313|          wilson.com|  23710|  84942|  129.221.29.97|  18.191.29.117|   Wales|    1.25|       HTTP|Opera/9.17.(X11; ...|     iOS|          Small|\n",
            "|2023-10-03 04:45:13|7035874783254|      cole-jones.com| 447095| 390148|   94.98.62.187|172.173.228.171|   Wales|    2.43|       HTTP|Mozilla/5.0 (comp...| Android|          Small|\n",
            "|2023-10-05 18:48:05|7798663185667|            hall.net| 809701|  11489|  82.141.112.88|  110.103.99.71| England|    2.66|      HTTPS|Mozilla/5.0 (iPad...|     iOS|          Small|\n",
            "|2023-10-02 13:47:58| 150443056843|            todd.com| 204941| 114006|   161.8.210.40| 208.230.61.215|Scotland|    2.69|       HTTP|Opera/9.36.(X11; ...| Android|          Small|\n",
            "+-------------------+-------------+--------------------+-------+-------+---------------+---------------+--------+--------+-----------+--------------------+--------+---------------+\n",
            "only showing top 20 rows\n",
            "\n"
          ]
        }
      ]
    },
    {
      "cell_type": "code",
      "source": [
        "df.withColumn(\"transectionsize\",\n",
        "        when(\n",
        "                  (df[\"dlbytes\"] > 500000) & (df[\"ulbytes\"] > 500000),\n",
        "                  \"large\"\n",
        "                  )\n",
        "        .when(\n",
        "                  (df[\"dlbytes\"] > 250000) & (df[\"ulbytes\"] > 250000),\n",
        "                  \"medium\"\n",
        "                  )\n",
        "         .when(\n",
        "                  (df[\"dlbytes\"] > 150000) & (df[\"ulbytes\"] > 150000),\n",
        "                  \"small\"\n",
        "                  )\n",
        ".otherwise(\"tiny\")).show()"
      ],
      "metadata": {
        "colab": {
          "base_uri": "https://localhost:8080/"
        },
        "id": "hGjt8Hm07Yq5",
        "outputId": "4b1f9092-fca8-4d94-d029-762aaf44327b"
      },
      "execution_count": null,
      "outputs": [
        {
          "output_type": "stream",
          "name": "stdout",
          "text": [
            "+-------------------+-------------+--------------------+-------+-------+---------------+---------------+--------+--------+-----------+--------------------+--------+---------------+\n",
            "|          date_time|       userid|              domain|dlbytes|ulbytes|       clientip|       serverip| country|txn_time|http_method|          user_agent|platform|transectionsize|\n",
            "+-------------------+-------------+--------------------+-------+-------+---------------+---------------+--------+--------+-----------+--------------------+--------+---------------+\n",
            "|2023-10-04 11:37:11|7773153683656|    ryan-wells.co.uk| 872807| 741526|142.132.219.110|  62.42.184.180| England|    2.33|      HTTPS|Mozilla/5.0 (Wind...| Android|          large|\n",
            "|2023-10-04 12:17:07|1886351675683|         hopkins.org|  50898| 529504|  184.205.48.78|  152.123.41.39|   Wales|     1.2|       HTTP|Mozilla/5.0 (Wind...| Android|          small|\n",
            "|2023-10-02 23:25:12|1597721345356|           evans.com| 964276| 952420|  189.30.60.163|  68.171.236.18|Scotland|    1.32|       HTTP|Mozilla/5.0 (Wind...|   Linux|          large|\n",
            "|2023-10-03 09:43:11|9766845800247|           kelly.com| 212529| 811887|   13.144.79.35|  63.141.80.109| England|    2.58|      HTTPS|Opera/8.54.(X11; ...| Android|          small|\n",
            "|2023-10-01 08:16:46|1546762097287|richardson-walker...| 553626| 901428| 143.74.163.248|  26.253.17.223|   Wales|    1.53|       HTTP|Mozilla/5.0 (Maci...| Windows|          large|\n",
            "|2023-10-01 13:49:39|8949163845658|            lowe.com|  43595|  77597|  148.15.214.37|     4.33.9.229| England|    1.68|       HTTP|Mozilla/5.0 (Linu...|     Mac|          small|\n",
            "|2023-10-02 02:22:30|8035878244556|            webb.com| 270574|  94701|  73.78.116.223|    82.69.61.25| England|    2.19|      HTTPS|Mozilla/5.0 (Wind...| Windows|          small|\n",
            "|2023-10-03 11:48:19|3400788003398|           watts.com| 342378| 715125|  142.37.27.131| 41.152.174.228|Scotland|    2.92|       HTTP|Opera/8.53.(Windo...|   Linux|         medium|\n",
            "|2023-10-02 12:45:41|7007039082075|   kemp-robinson.org| 613214| 239494| 80.245.249.129|198.186.190.149|Scotland|    1.78|      HTTPS|Mozilla/5.0 (X11;...|     Mac|          small|\n",
            "|2023-10-03 08:59:16| 893913938070|           smith.com| 643362| 146752|    21.239.54.8|  136.170.182.7| England|    0.58|      HTTPS|Mozilla/5.0 (Andr...| Windows|          small|\n",
            "|2023-10-05 21:36:53|3102780874474|   wilson-butler.com| 603759| 616834| 57.113.168.155|162.232.192.227| Ireland|    2.42|      HTTPS|Mozilla/5.0 (Andr...|     Mac|          large|\n",
            "|2023-10-02 03:26:59|7214908687567|            hunt.com| 707145| 995270|  98.141.197.15| 107.239.246.38| England|    1.95|       HTTP|Opera/9.31.(Windo...|     iOS|          large|\n",
            "|2023-10-04 03:09:58| 291279030607|           jones.org| 640439| 373389|       98.3.2.5|   148.44.76.68|   Wales|    2.47|       HTTP|Mozilla/5.0 (Maci...|     Mac|         medium|\n",
            "|2023-10-02 10:16:25|1042763747479|         thomas.info| 764956| 952036|187.182.236.233|   85.61.114.36| England|    1.42|       HTTP|Mozilla/5.0 (Andr...| Android|          large|\n",
            "|2023-10-05 02:22:40|2322746906974|franklin-whittake...| 651947| 183369| 26.138.157.236| 142.176.162.10| Ireland|    1.35|      HTTPS|Opera/8.74.(Windo...|   Linux|          small|\n",
            "|2023-10-01 18:12:17| 316289568864|         godfrey.com| 428528|  78946| 65.224.238.100|  128.90.192.17| Ireland|    1.61|       HTTP|Opera/9.16.(Windo...|   Linux|          small|\n",
            "|2023-10-01 20:09:39|1093994305313|          wilson.com|  23710|  84942|  129.221.29.97|  18.191.29.117|   Wales|    1.25|       HTTP|Opera/9.17.(X11; ...|     iOS|          small|\n",
            "|2023-10-03 04:45:13|7035874783254|      cole-jones.com| 447095| 390148|   94.98.62.187|172.173.228.171|   Wales|    2.43|       HTTP|Mozilla/5.0 (comp...| Android|         medium|\n",
            "|2023-10-05 18:48:05|7798663185667|            hall.net| 809701|  11489|  82.141.112.88|  110.103.99.71| England|    2.66|      HTTPS|Mozilla/5.0 (iPad...|     iOS|          small|\n",
            "|2023-10-02 13:47:58| 150443056843|            todd.com| 204941| 114006|   161.8.210.40| 208.230.61.215|Scotland|    2.69|       HTTP|Opera/9.36.(X11; ...| Android|          small|\n",
            "+-------------------+-------------+--------------------+-------+-------+---------------+---------------+--------+--------+-----------+--------------------+--------+---------------+\n",
            "only showing top 20 rows\n",
            "\n"
          ]
        }
      ]
    },
    {
      "cell_type": "code",
      "source": [
        "df.withColumn(\"transectionsize\",\n",
        "        when(\n",
        "                  (df[\"txn_time\"]  > 1.60),\n",
        "                  \"Acative\"\n",
        "                  )\n",
        "        .otherwise(\"inactive\")).show(10)"
      ],
      "metadata": {
        "colab": {
          "base_uri": "https://localhost:8080/"
        },
        "id": "zs5ghPUhQCJ5",
        "outputId": "4d6c3c38-25a9-482c-83a1-e2fa887eb125"
      },
      "execution_count": null,
      "outputs": [
        {
          "output_type": "stream",
          "name": "stdout",
          "text": [
            "+-------------------+-------------+--------------------+-------+-------+---------------+---------------+--------+--------+-----------+--------------------+--------+---------------+\n",
            "|          date_time|       userid|              domain|dlbytes|ulbytes|       clientip|       serverip| country|txn_time|http_method|          user_agent|platform|transectionsize|\n",
            "+-------------------+-------------+--------------------+-------+-------+---------------+---------------+--------+--------+-----------+--------------------+--------+---------------+\n",
            "|2023-10-04 11:37:11|7773153683656|    ryan-wells.co.uk| 872807| 741526|142.132.219.110|  62.42.184.180| England|    2.33|      HTTPS|Mozilla/5.0 (Wind...| Android|        Acative|\n",
            "|2023-10-04 12:17:07|1886351675683|         hopkins.org|  50898| 529504|  184.205.48.78|  152.123.41.39|   Wales|     1.2|       HTTP|Mozilla/5.0 (Wind...| Android|       inactive|\n",
            "|2023-10-02 23:25:12|1597721345356|           evans.com| 964276| 952420|  189.30.60.163|  68.171.236.18|Scotland|    1.32|       HTTP|Mozilla/5.0 (Wind...|   Linux|       inactive|\n",
            "|2023-10-03 09:43:11|9766845800247|           kelly.com| 212529| 811887|   13.144.79.35|  63.141.80.109| England|    2.58|      HTTPS|Opera/8.54.(X11; ...| Android|        Acative|\n",
            "|2023-10-01 08:16:46|1546762097287|richardson-walker...| 553626| 901428| 143.74.163.248|  26.253.17.223|   Wales|    1.53|       HTTP|Mozilla/5.0 (Maci...| Windows|       inactive|\n",
            "|2023-10-01 13:49:39|8949163845658|            lowe.com|  43595|  77597|  148.15.214.37|     4.33.9.229| England|    1.68|       HTTP|Mozilla/5.0 (Linu...|     Mac|        Acative|\n",
            "|2023-10-02 02:22:30|8035878244556|            webb.com| 270574|  94701|  73.78.116.223|    82.69.61.25| England|    2.19|      HTTPS|Mozilla/5.0 (Wind...| Windows|        Acative|\n",
            "|2023-10-03 11:48:19|3400788003398|           watts.com| 342378| 715125|  142.37.27.131| 41.152.174.228|Scotland|    2.92|       HTTP|Opera/8.53.(Windo...|   Linux|        Acative|\n",
            "|2023-10-02 12:45:41|7007039082075|   kemp-robinson.org| 613214| 239494| 80.245.249.129|198.186.190.149|Scotland|    1.78|      HTTPS|Mozilla/5.0 (X11;...|     Mac|        Acative|\n",
            "|2023-10-03 08:59:16| 893913938070|           smith.com| 643362| 146752|    21.239.54.8|  136.170.182.7| England|    0.58|      HTTPS|Mozilla/5.0 (Andr...| Windows|       inactive|\n",
            "+-------------------+-------------+--------------------+-------+-------+---------------+---------------+--------+--------+-----------+--------------------+--------+---------------+\n",
            "only showing top 10 rows\n",
            "\n"
          ]
        }
      ]
    },
    {
      "cell_type": "code",
      "source": [
        "from pyspark.sql.window import Window\n",
        "from pyspark.sql.functions import rank,col,lead,lag,row_number, avg, sum"
      ],
      "metadata": {
        "id": "h38Vd-scSWZT"
      },
      "execution_count": null,
      "outputs": []
    },
    {
      "cell_type": "code",
      "source": [
        "window_spec= Window.partitionBy(\"country\").orderBy(df[\"dlbytes\"].desc()\\\n",
        ".select('country','dlbytes').show()\n"
      ],
      "metadata": {
        "colab": {
          "base_uri": "https://localhost:8080/",
          "height": 140
        },
        "id": "NK7DeDQtYXvP",
        "outputId": "819d5fd7-0508-40a6-8750-f0cd1195b5cf"
      },
      "execution_count": null,
      "outputs": [
        {
          "output_type": "error",
          "ename": "SyntaxError",
          "evalue": "incomplete input (<ipython-input-191-0aa67142085f>, line 2)",
          "traceback": [
            "\u001b[0;36m  File \u001b[0;32m\"<ipython-input-191-0aa67142085f>\"\u001b[0;36m, line \u001b[0;32m2\u001b[0m\n\u001b[0;31m    .select('country','dlbytes').show()\u001b[0m\n\u001b[0m                                       ^\u001b[0m\n\u001b[0;31mSyntaxError\u001b[0m\u001b[0;31m:\u001b[0m incomplete input\n"
          ]
        }
      ]
    },
    {
      "cell_type": "code",
      "source": [
        "from pyspark.sql.window import Window\n",
        "from pyspark.sql.functions import *\n",
        "df.withColumn(\n",
        "    'Rank',\n",
        "    rank().over(\n",
        "        Window.partitionBy('country','platform')\\\n",
        "        .orderBy(col('dlbytes').desc())\n",
        "        )\n",
        ").select('country','platform','dlbytes','Rank')\\\n",
        ".show(6)"
      ],
      "metadata": {
        "colab": {
          "base_uri": "https://localhost:8080/"
        },
        "id": "Eyh2vnmvZAa3",
        "outputId": "b7ff7f98-f075-4b8b-97e4-a47ce7f415e6"
      },
      "execution_count": null,
      "outputs": [
        {
          "output_type": "stream",
          "name": "stdout",
          "text": [
            "+-------+--------+-------+----+\n",
            "|country|platform|dlbytes|Rank|\n",
            "+-------+--------+-------+----+\n",
            "|England| Android| 999827|   1|\n",
            "|England| Android| 999587|   2|\n",
            "|England| Android| 999483|   3|\n",
            "|England| Android| 999436|   4|\n",
            "|England| Android| 999398|   5|\n",
            "|England| Android| 999161|   6|\n",
            "+-------+--------+-------+----+\n",
            "only showing top 6 rows\n",
            "\n"
          ]
        }
      ]
    },
    {
      "cell_type": "code",
      "source": [
        "window_spec= Window.partitionBy(\"country\").orderBy(\"date_time\")"
      ],
      "metadata": {
        "id": "zaOQ197tcI38"
      },
      "execution_count": null,
      "outputs": []
    },
    {
      "cell_type": "code",
      "source": [
        "df.withColumn(\n",
        "    \"row_number\",\n",
        "    row_number()\\\n",
        "    .over(window_spec))\\\n",
        ".select('country','row_number','date_time').show(6)"
      ],
      "metadata": {
        "colab": {
          "base_uri": "https://localhost:8080/"
        },
        "id": "S2Z_LGPSdJha",
        "outputId": "31adc744-e1d4-4c21-88fe-a263ddcd6e6f"
      },
      "execution_count": null,
      "outputs": [
        {
          "output_type": "stream",
          "name": "stdout",
          "text": [
            "+-------+----------+-------------------+\n",
            "|country|row_number|          date_time|\n",
            "+-------+----------+-------------------+\n",
            "|England|         1|2023-10-01 00:00:33|\n",
            "|England|         2|2023-10-01 00:00:43|\n",
            "|England|         3|2023-10-01 00:00:53|\n",
            "|England|         4|2023-10-01 00:01:21|\n",
            "|England|         5|2023-10-01 00:01:26|\n",
            "|England|         6|2023-10-01 00:01:35|\n",
            "+-------+----------+-------------------+\n",
            "only showing top 6 rows\n",
            "\n"
          ]
        }
      ]
    },
    {
      "cell_type": "code",
      "source": [
        "#lead and lag\n",
        "window_spec = Window.partitionBy().orderBy(\"date_time\")"
      ],
      "metadata": {
        "id": "2S2byTkadWcn"
      },
      "execution_count": null,
      "outputs": []
    },
    {
      "cell_type": "code",
      "source": [
        "df.withColumn(\"previous_bytes\",lag(\"dlbytes\").over(window_spec)) \\\n",
        ".select('date_time','dlbytes','previous_bytes').show(20)"
      ],
      "metadata": {
        "colab": {
          "base_uri": "https://localhost:8080/"
        },
        "id": "0rnk1nwaopfx",
        "outputId": "a2cdbb93-4fb9-4ddb-d330-a9cee182cba6"
      },
      "execution_count": null,
      "outputs": [
        {
          "output_type": "stream",
          "name": "stdout",
          "text": [
            "+-------------------+-------+--------------+\n",
            "|          date_time|dlbytes|previous_bytes|\n",
            "+-------------------+-------+--------------+\n",
            "|2023-10-01 00:00:01|  60865|          NULL|\n",
            "|2023-10-01 00:00:01| 196289|         60865|\n",
            "|2023-10-01 00:00:01| 350605|        196289|\n",
            "|2023-10-01 00:00:04| 210027|        350605|\n",
            "|2023-10-01 00:00:26| 523144|        210027|\n",
            "|2023-10-01 00:00:32|  26727|        523144|\n",
            "|2023-10-01 00:00:33| 453615|         26727|\n",
            "|2023-10-01 00:00:37| 613899|        453615|\n",
            "|2023-10-01 00:00:38| 115888|        613899|\n",
            "|2023-10-01 00:00:39| 385154|        115888|\n",
            "|2023-10-01 00:00:43| 825479|        385154|\n",
            "|2023-10-01 00:00:52| 692831|        825479|\n",
            "|2023-10-01 00:00:53| 427126|        692831|\n",
            "|2023-10-01 00:00:53| 279175|        427126|\n",
            "|2023-10-01 00:00:56| 947893|        279175|\n",
            "|2023-10-01 00:01:08|  51447|        947893|\n",
            "|2023-10-01 00:01:15| 776949|         51447|\n",
            "|2023-10-01 00:01:17|  21886|        776949|\n",
            "|2023-10-01 00:01:19| 152527|         21886|\n",
            "|2023-10-01 00:01:20| 925857|        152527|\n",
            "+-------------------+-------+--------------+\n",
            "only showing top 20 rows\n",
            "\n"
          ]
        }
      ]
    },
    {
      "cell_type": "code",
      "source": [
        "df.withColumn(\"previous_bytes\",lead(\"dlbytes\").over(window_spec))\\\n",
        ".select('date_time','dlbytes','previous_bytes').show()"
      ],
      "metadata": {
        "colab": {
          "base_uri": "https://localhost:8080/"
        },
        "id": "n3EGOsfDo4se",
        "outputId": "6a3472f0-bb02-48e3-8da6-8283373f196f"
      },
      "execution_count": null,
      "outputs": [
        {
          "output_type": "stream",
          "name": "stdout",
          "text": [
            "+-------------------+-------+--------------+\n",
            "|          date_time|dlbytes|previous_bytes|\n",
            "+-------------------+-------+--------------+\n",
            "|2023-10-01 00:00:01|  60865|        196289|\n",
            "|2023-10-01 00:00:01| 196289|        350605|\n",
            "|2023-10-01 00:00:01| 350605|        210027|\n",
            "|2023-10-01 00:00:04| 210027|        523144|\n",
            "|2023-10-01 00:00:26| 523144|         26727|\n",
            "|2023-10-01 00:00:32|  26727|        453615|\n",
            "|2023-10-01 00:00:33| 453615|        613899|\n",
            "|2023-10-01 00:00:37| 613899|        115888|\n",
            "|2023-10-01 00:00:38| 115888|        385154|\n",
            "|2023-10-01 00:00:39| 385154|        825479|\n",
            "|2023-10-01 00:00:43| 825479|        692831|\n",
            "|2023-10-01 00:00:52| 692831|        427126|\n",
            "|2023-10-01 00:00:53| 427126|        279175|\n",
            "|2023-10-01 00:00:53| 279175|        947893|\n",
            "|2023-10-01 00:00:56| 947893|         51447|\n",
            "|2023-10-01 00:01:08|  51447|        776949|\n",
            "|2023-10-01 00:01:15| 776949|         21886|\n",
            "|2023-10-01 00:01:17|  21886|        152527|\n",
            "|2023-10-01 00:01:19| 152527|        925857|\n",
            "|2023-10-01 00:01:20| 925857|        402757|\n",
            "+-------------------+-------+--------------+\n",
            "only showing top 20 rows\n",
            "\n"
          ]
        }
      ]
    },
    {
      "cell_type": "code",
      "source": [],
      "metadata": {
        "id": "p9F1Wxi9pBQG"
      },
      "execution_count": null,
      "outputs": []
    }
  ]
}